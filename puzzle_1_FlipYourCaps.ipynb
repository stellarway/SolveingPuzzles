{
 "cells": [
  {
   "cell_type": "markdown",
   "metadata": {},
   "source": [
    "## (1) 자연스러운 문장 나오도록 코드 수정"
   ]
  },
  {
   "cell_type": "markdown",
   "metadata": {},
   "source": [
    "책에서 제시된 코드는 아래와 같다."
   ]
  },
  {
   "cell_type": "code",
   "execution_count": 67,
   "metadata": {},
   "outputs": [],
   "source": [
    "cap1 = ['F', 'F', 'B', 'B', 'B', 'F', 'B', 'B', 'B', 'F', 'F', 'B', 'F']\n",
    "cap2 = ['F', 'F', 'B', 'B', 'B', 'F', 'B', 'B', 'B', 'F', 'F', 'F', 'F']"
   ]
  },
  {
   "cell_type": "code",
   "execution_count": 68,
   "metadata": {},
   "outputs": [
    {
     "name": "stdout",
     "output_type": "stream",
     "text": [
      "People in positions 2 through 4 flip your caps!\n",
      "People in positions 6 through 8 flip your caps!\n",
      "People in positions 11 through 11 flip your caps!\n"
     ]
    }
   ],
   "source": [
    "def pleaseConform(caps):\n",
    "    start = forward = backward = 0\n",
    "    intervals = []\n",
    "    for i in range(1, len(caps)):\n",
    "        if caps[start] != caps[i]:\n",
    "            intervals.append((start, i-1, caps[start]))\n",
    "            if caps[start] == 'F':\n",
    "                forward += 1\n",
    "            else:\n",
    "                backward += 1\n",
    "            start = i\n",
    "    intervals.append((start, len(caps)-1, caps[start]))\n",
    "    if caps[start] == 'F':\n",
    "        forward += 1\n",
    "    else:\n",
    "        forward += 1\n",
    "    if forward < backward:\n",
    "        flip = 'F'\n",
    "    else:\n",
    "        flip = 'B'\n",
    "    for t in intervals:\n",
    "        if t[2] == flip:\n",
    "            print('People in positions', t[0], \n",
    "                  'through', t[1], 'flip your caps!')\n",
    "pleaseConform(cap1)"
   ]
  },
  {
   "cell_type": "markdown",
   "metadata": {},
   "source": [
    "Q. 자연스러운 문장이 나오도록 코드 수정"
   ]
  },
  {
   "cell_type": "code",
   "execution_count": 75,
   "metadata": {},
   "outputs": [
    {
     "name": "stdout",
     "output_type": "stream",
     "text": [
      "People in positions 2 through 4 flip your caps!\n",
      "People in positions 6 through 8 flip your caps!\n",
      "Person in position 11 flip your cap!\n"
     ]
    }
   ],
   "source": [
    "def pleaseConform(caps):\n",
    "    start = forward = backward = 0\n",
    "    intervals = []\n",
    "    for i in range(1, len(caps)):\n",
    "        if caps[start] != caps[i]:\n",
    "            intervals.append((start, i-1, caps[start]))\n",
    "            if caps[start] == 'F':\n",
    "                forward += 1\n",
    "            else:\n",
    "                backward += 1\n",
    "            start = i\n",
    "    intervals.append((start, len(caps)-1, caps[start]))\n",
    "    if caps[start] == 'F':\n",
    "        forward += 1\n",
    "    else:\n",
    "        forward += 1\n",
    "    if forward < backward:\n",
    "        flip = 'F'\n",
    "    else:\n",
    "        flip = 'B'\n",
    "    for t in intervals:\n",
    "        if t[2] == flip:\n",
    "            if t[1]-t[0]:\n",
    "                print('People in positions {} through {} flip your caps!'.format(t[0], t[1]))\n",
    "            else:\n",
    "                print('Person in position {} flip your cap!'.format(t[0]))\n",
    "pleaseConform(cap1)"
   ]
  },
  {
   "cell_type": "markdown",
   "metadata": {},
   "source": [
    "## (2) 자연스러운 문장 + 빈 리스트 오류 제거"
   ]
  },
  {
   "cell_type": "markdown",
   "metadata": {},
   "source": [
    "책에서 제시된 코드는 다음과 같다."
   ]
  },
  {
   "cell_type": "code",
   "execution_count": null,
   "metadata": {},
   "outputs": [],
   "source": []
  },
  {
   "cell_type": "code",
   "execution_count": 81,
   "metadata": {},
   "outputs": [
    {
     "name": "stdout",
     "output_type": "stream",
     "text": [
      "People in positions 2 through 4 flip your caps!\n",
      "People in positions 6 through 8 flip your caps!\n",
      "People in positions 11 through 11 flip your caps!\n"
     ]
    }
   ],
   "source": [
    "def pleaseConformOnepass(caps):\n",
    "    caps = caps + [caps[0]]\n",
    "    for i in range(1, len(caps)):\n",
    "        if caps[i] != caps[i-1]:\n",
    "            if caps[i] != caps[0]:\n",
    "                print('People in positions', i, end='')\n",
    "            else:\n",
    "                print(' through', i-1, 'flip your caps!')\n",
    "pleaseConformOnepass(cap1)"
   ]
  },
  {
   "cell_type": "markdown",
   "metadata": {},
   "source": [
    "수정한 코드는 아래와 같다."
   ]
  },
  {
   "cell_type": "code",
   "execution_count": 128,
   "metadata": {},
   "outputs": [],
   "source": [
    "def pleaseConformOnepass(caps):\n",
    "    if caps == [] or len(set(caps)) == 1:\n",
    "        print('Do Nothing.')\n",
    "    else:\n",
    "        caps += [caps[0]]\n",
    "        start = end = 0\n",
    "        for i in range(1, len(caps)):\n",
    "            if caps[i] != caps[i-1]:\n",
    "                if caps[i] != caps[0]:\n",
    "                    start = i\n",
    "                else:\n",
    "                    end = i-1\n",
    "                if start < end:\n",
    "                    print('People in positions {} through {} flip your caps!'.format(start, end))\n",
    "                elif start == end:\n",
    "                    print('Person in position {} flip your cap!'.format(start))"
   ]
  },
  {
   "cell_type": "code",
   "execution_count": 129,
   "metadata": {},
   "outputs": [
    {
     "name": "stdout",
     "output_type": "stream",
     "text": [
      "People in positions 2 through 4 flip your caps!\n",
      "People in positions 6 through 8 flip your caps!\n",
      "Person in position 11 flip your cap!\n"
     ]
    }
   ],
   "source": [
    "pleaseConformOnepass(cap1)"
   ]
  },
  {
   "cell_type": "code",
   "execution_count": 130,
   "metadata": {},
   "outputs": [
    {
     "name": "stdout",
     "output_type": "stream",
     "text": [
      "Do Nothing.\n"
     ]
    }
   ],
   "source": [
    "pleaseConformOnepass([])"
   ]
  },
  {
   "cell_type": "code",
   "execution_count": 131,
   "metadata": {},
   "outputs": [
    {
     "name": "stdout",
     "output_type": "stream",
     "text": [
      "Do Nothing.\n"
     ]
    }
   ],
   "source": [
    "pleaseConformOnepass(['F','F'])"
   ]
  },
  {
   "cell_type": "markdown",
   "metadata": {},
   "source": [
    "혹은"
   ]
  },
  {
   "cell_type": "code",
   "execution_count": 132,
   "metadata": {
    "scrolled": true
   },
   "outputs": [],
   "source": [
    "def pleaseConformOnepass(caps):\n",
    "    if caps == [] or len(set(caps)) == 1:\n",
    "        print('Do Nothing.')\n",
    "    else:\n",
    "        caps += [caps[0]]\n",
    "        appended = 0\n",
    "        for i in range(1, len(caps)):\n",
    "            if caps[i] != caps[i-1]:\n",
    "                appended += 1\n",
    "                if caps[i] != caps[0]:\n",
    "                    val1 = i\n",
    "                else:\n",
    "                    val2 = i-1\n",
    "                if appended%2 == 0:\n",
    "                    print('People in positions {} through {} flip your caps!'.format(val1, val2)) if val2 - val1\\\n",
    "                    else print('Person in position {} flip your cap!'.format(val1))"
   ]
  },
  {
   "cell_type": "markdown",
   "metadata": {},
   "source": [
    "두번째 코드가 더 마음에 든다."
   ]
  },
  {
   "cell_type": "code",
   "execution_count": 133,
   "metadata": {},
   "outputs": [
    {
     "name": "stdout",
     "output_type": "stream",
     "text": [
      "People in positions 2 through 4 flip your caps!\n",
      "People in positions 6 through 8 flip your caps!\n",
      "Person in position 11 flip your cap!\n"
     ]
    }
   ],
   "source": [
    "pleaseConformOnepass(cap1)"
   ]
  },
  {
   "cell_type": "code",
   "execution_count": 134,
   "metadata": {},
   "outputs": [
    {
     "name": "stdout",
     "output_type": "stream",
     "text": [
      "Do Nothing.\n"
     ]
    }
   ],
   "source": [
    "pleaseConformOnepass([])"
   ]
  },
  {
   "cell_type": "code",
   "execution_count": 135,
   "metadata": {
    "scrolled": true
   },
   "outputs": [
    {
     "name": "stdout",
     "output_type": "stream",
     "text": [
      "Do Nothing.\n"
     ]
    }
   ],
   "source": [
    "pleaseConformOnepass(['F','F'])"
   ]
  },
  {
   "cell_type": "markdown",
   "metadata": {},
   "source": [
    "## (3) 한껏 꾸미고 온 입장객 'H'"
   ]
  },
  {
   "cell_type": "code",
   "execution_count": 193,
   "metadata": {},
   "outputs": [],
   "source": [
    "cap3 = ['F', 'F', 'B', 'H', 'B', 'F', 'B', 'B', 'B', 'F', 'H', 'F', 'F']"
   ]
  },
  {
   "cell_type": "code",
   "execution_count": 256,
   "metadata": {},
   "outputs": [],
   "source": [
    "def forH(_caps):\n",
    "    assert _caps, print('Do Nothing!')\n",
    "    caps = _caps.copy()\n",
    "    appended = 0\n",
    "    caps += [caps[-1]]\n",
    "    for i in range(1, len(caps)):\n",
    "        if caps[i] != caps[i-1]:\n",
    "            appended += 1\n",
    "            if caps[i] != caps[0] and caps[i]!='H':\n",
    "                val1 = i\n",
    "            else:\n",
    "                val2 = i-1\n",
    "            if appended%2 == 0 and val1 and val2:\n",
    "                print('People in positions {} through {} flip your caps!'.format(val1, val2)) if val2 - val1\\\n",
    "                else print('Person in position {} flip your cap!'.format(val1))        \n",
    "                val1 = val2 = 0"
   ]
  },
  {
   "cell_type": "code",
   "execution_count": 257,
   "metadata": {
    "scrolled": true
   },
   "outputs": [
    {
     "name": "stdout",
     "output_type": "stream",
     "text": [
      "Person in position 2 flip your cap!\n",
      "Person in position 4 flip your cap!\n",
      "People in positions 6 through 8 flip your caps!\n"
     ]
    }
   ],
   "source": [
    "forH(cap3)"
   ]
  },
  {
   "cell_type": "markdown",
   "metadata": {},
   "source": [
    "### 나홀로 추가 문제 : 만약 caps[0]이 'H'라면?"
   ]
  },
  {
   "cell_type": "code",
   "execution_count": 258,
   "metadata": {},
   "outputs": [],
   "source": [
    "cap4 = ['H', 'H', 'F', 'H', 'B', 'F', 'B', 'B', 'B', 'F', 'H', 'F', 'F']"
   ]
  },
  {
   "cell_type": "code",
   "execution_count": 259,
   "metadata": {},
   "outputs": [
    {
     "name": "stdout",
     "output_type": "stream",
     "text": [
      "Person in position 2 flip your cap!\n",
      "People in positions 11 through 9 flip your caps!\n"
     ]
    }
   ],
   "source": [
    "forH(cap4)"
   ]
  },
  {
   "cell_type": "markdown",
   "metadata": {},
   "source": [
    "매우 이상한 결과가 나오므로 수정해야 할 필요가 있다."
   ]
  },
  {
   "cell_type": "code",
   "execution_count": 299,
   "metadata": {},
   "outputs": [],
   "source": [
    "def forH(_caps):\n",
    "    assert _caps, print('Do Nothing!')\n",
    "    caps = _caps.copy()\n",
    "    startpoint = appended = 0\n",
    "    \n",
    "    # startpoint를 뒤로 옮겨가며 'H'가 아닌 다른 문자가 나올 때까지 탐색한다.\n",
    "    for i in caps: \n",
    "        if i == 'H':\n",
    "            startpoint += 1\n",
    "        else:\n",
    "            break\n",
    "    caps += [caps[-1]]\n",
    "    val1 = val2 = 0\n",
    "    for i in range(startpoint+1, len(caps)):\n",
    "        if caps[i] != caps[i-1]:\n",
    "            appended += 1\n",
    "            if caps[i] != caps[startpoint] and caps[i]!='H':\n",
    "                val1 = i\n",
    "            else:\n",
    "                val2 = i-1\n",
    "            if val2 >= val1 and val1 and val2:\n",
    "                print('People in positions {} through {} flip your caps!'.format(val1, val2)) if val2 - val1\\\n",
    "                else print('Person in position {} flip your cap!'.format(val1))        \n",
    "                val1 = val2 = 0"
   ]
  },
  {
   "cell_type": "code",
   "execution_count": 300,
   "metadata": {},
   "outputs": [
    {
     "name": "stdout",
     "output_type": "stream",
     "text": [
      "Person in position 4 flip your cap!\n",
      "People in positions 6 through 8 flip your caps!\n"
     ]
    }
   ],
   "source": [
    "forH(cap4)"
   ]
  },
  {
   "cell_type": "markdown",
   "metadata": {},
   "source": [
    "## (4) 기다리고 기다렸던 런-렝스 인코딩/디코딩!!\n",
    "인코딩 함수:  \n",
    "input = 'BWWWWWBWWWW'  \n",
    "output = '1B5W1B4W'  \n",
    "    \n",
    "디코딩 함수:\n",
    "input = '1B5W1B4W'  \n",
    "output = 'BWWWWWBWWWW'  \n",
    "    \n",
    "**조건** 각 함수에서는 for문 한번만 쓰기  \n",
    "**힌트** 문자열 s에서 s[i]가 알파벳 문자이면 s[i].isalpha()는 True,   \n",
    "        s.isalpha()는 s 문자열 안의 모든 문자에 대해 검사"
   ]
  },
  {
   "cell_type": "code",
   "execution_count": 315,
   "metadata": {},
   "outputs": [],
   "source": [
    "s = 'BWWWWWBWWWW'"
   ]
  },
  {
   "cell_type": "code",
   "execution_count": 355,
   "metadata": {},
   "outputs": [],
   "source": [
    "def run_length_encoder(s):\n",
    "    s += '@'\n",
    "    result = ''\n",
    "    num = 1\n",
    "    for i in range(1, len(s)):\n",
    "        if s[i] != s[i-1]:\n",
    "            result += str(num) + s[i-1]\n",
    "            num = 1\n",
    "        else:\n",
    "            num += 1\n",
    "    return result\n",
    "    \n",
    "def run_length_decoder(s):\n",
    "    result = num = text = ''\n",
    "    for i in range(len(s)):\n",
    "        if s[i].isalpha():\n",
    "            text += int(num)*s[i]\n",
    "            result += text\n",
    "            num = ''\n",
    "        else:\n",
    "            num += s[i]\n",
    "            text = ''\n",
    "    return result"
   ]
  },
  {
   "cell_type": "code",
   "execution_count": 356,
   "metadata": {},
   "outputs": [
    {
     "data": {
      "text/plain": [
       "'1B5W1B4W'"
      ]
     },
     "execution_count": 356,
     "metadata": {},
     "output_type": "execute_result"
    }
   ],
   "source": [
    "run_length_encoder(s)"
   ]
  },
  {
   "cell_type": "code",
   "execution_count": 357,
   "metadata": {},
   "outputs": [
    {
     "data": {
      "text/plain": [
       "'BWWWWWBWWWW'"
      ]
     },
     "execution_count": 357,
     "metadata": {},
     "output_type": "execute_result"
    }
   ],
   "source": [
    "run_length_decoder('1B5W1B4W')"
   ]
  },
  {
   "cell_type": "markdown",
   "metadata": {},
   "source": [
    "### 나홀로 추가 문제 :\n",
    "'BWBWBW'는 '1B1W1B1W1B1W' 보다 '5(BW)' 로 인코딩하는 게 더 효율적. 가장 짧게 인코딩 하려면?  \n",
    "아래의 문제와 동일..  \n",
    "https://programmers.co.kr/learn/courses/30/lessons/60057"
   ]
  }
 ],
 "metadata": {
  "kernelspec": {
   "display_name": "Python 3",
   "language": "python",
   "name": "python3"
  },
  "language_info": {
   "codemirror_mode": {
    "name": "ipython",
    "version": 3
   },
   "file_extension": ".py",
   "mimetype": "text/x-python",
   "name": "python",
   "nbconvert_exporter": "python",
   "pygments_lexer": "ipython3",
   "version": "3.7.4"
  }
 },
 "nbformat": 4,
 "nbformat_minor": 2
}
