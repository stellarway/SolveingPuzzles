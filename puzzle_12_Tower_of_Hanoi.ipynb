{
 "cells": [
  {
   "cell_type": "code",
   "execution_count": 9,
   "metadata": {},
   "outputs": [
    {
     "name": "stdout",
     "output_type": "stream",
     "text": [
      "Move ring 1 from peg 1 to peg 3\n",
      "Move ring 2 from peg 1 to peg 2\n",
      "Move ring 1 from peg 3 to peg 2\n",
      "Move ring 3 from peg 1 to peg 3\n",
      "Move ring 1 from peg 2 to peg 1\n",
      "Move ring 2 from peg 2 to peg 3\n",
      "Move ring 1 from peg 1 to peg 3\n"
     ]
    },
    {
     "data": {
      "text/plain": [
       "7"
      ]
     },
     "execution_count": 9,
     "metadata": {},
     "output_type": "execute_result"
    }
   ],
   "source": [
    "def hanoi(numRings, startPeg, endPeg):\n",
    "    numMoves = 0\n",
    "    if numRings >0:\n",
    "        numMoves += hanoi(numRings - 1, startPeg, 6 - startPeg - endPeg)\n",
    "        print('Move ring {} from peg {} to peg {}'.format(numRings, startPeg, endPeg))\n",
    "        numMoves += 1\n",
    "        numMoves += hanoi(numRings - 1, 6 - startPeg - endPeg, endPeg)\n",
    "    return numMoves\n",
    "hanoi(3,1,3)"
   ]
  },
  {
   "cell_type": "code",
   "execution_count": 10,
   "metadata": {},
   "outputs": [
    {
     "name": "stdout",
     "output_type": "stream",
     "text": [
      "Move ring 1 from peg A to peg C\n",
      "Move ring 2 from peg A to peg B\n",
      "Move ring 1 from peg C to peg B\n",
      "Move ring 3 from peg A to peg C\n",
      "Move ring 1 from peg B to peg A\n",
      "Move ring 2 from peg B to peg C\n",
      "Move ring 1 from peg A to peg C\n"
     ]
    }
   ],
   "source": [
    "def hanoi(N, start, to, via):\n",
    "    if N == 1:\n",
    "        print('Move ring {} from peg {} to peg {}'.format(1, start, to))\n",
    "    else:\n",
    "        hanoi(N-1, start, via, to)\n",
    "        print('Move ring {} from peg {} to peg {}'.format(N, start, to))\n",
    "        hanoi(N-1, via, to, start)\n",
    "        \n",
    "hanoi(3, 'A','C','B')"
   ]
  }
 ],
 "metadata": {
  "kernelspec": {
   "display_name": "Python 3",
   "language": "python",
   "name": "python3"
  },
  "language_info": {
   "codemirror_mode": {
    "name": "ipython",
    "version": 3
   },
   "file_extension": ".py",
   "mimetype": "text/x-python",
   "name": "python",
   "nbconvert_exporter": "python",
   "pygments_lexer": "ipython3",
   "version": "3.7.4"
  }
 },
 "nbformat": 4,
 "nbformat_minor": 2
}
