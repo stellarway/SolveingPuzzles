{
 "cells": [
  {
   "cell_type": "code",
   "execution_count": 10,
   "metadata": {},
   "outputs": [],
   "source": [
    "def Hardness(n, d):\n",
    "    # r은 진수. 알맞는 진수 찾기\n",
    "    # int(n**(1/d))+1 로 간단히 찾을 수도 있다.\n",
    "    r = 1\n",
    "    while (r**d <= n):\n",
    "        r += 1\n",
    "    print('Radix chosen is {}'.format(r))\n",
    "    \n",
    "    numDrops = 0\n",
    "    # 구슬 수만큼 체크리스트 생성\n",
    "    floorNoBreak = [0] * d\n",
    "    for i in range(d):\n",
    "        for j in range(r-1):\n",
    "            floorNoBreak[i] += 1\n",
    "            Floor = convertToDecimal(r, d, floorNoBreak)\n",
    "            if Floor > n:\n",
    "                floorNoBreak[i] -= 1\n",
    "                break\n",
    "            print('Drop Ball {} from Floor {}'.format(i+1, Floor))\n",
    "            yes = input('Did the ball break (yes/no)?: ')\n",
    "            numDrops += 1\n",
    "            if yes == 'yes':\n",
    "                floorNoBreak[i] -= 1\n",
    "                break\n",
    "    hardness = convertToDecimal(r, d, floorNoBreak)\n",
    "    return hardness, numDrops\n",
    "def convertToDecimal(r, d, rep):\n",
    "    number = 0\n",
    "    for i in range(d-1):\n",
    "        number = (number + rep[i]) * r\n",
    "    number += rep[d-1]\n",
    "    return number"
   ]
  },
  {
   "cell_type": "code",
   "execution_count": null,
   "metadata": {},
   "outputs": [],
   "source": []
  },
  {
   "cell_type": "markdown",
   "metadata": {},
   "source": [
    "### 1. 구슬 1부터 사용"
   ]
  },
  {
   "cell_type": "code",
   "execution_count": 10,
   "metadata": {},
   "outputs": [],
   "source": [
    "def Hardness(n, d):\n",
    "    # r은 진수. 알맞는 진수 찾기\n",
    "    # int(n**(1/d))+1 로 간단히 찾을 수도 있다.\n",
    "    r = 1\n",
    "    while (r**d <= n):\n",
    "        r += 1\n",
    "    print('Radix chosen is {}'.format(r))\n",
    "    \n",
    "    numDrops = 0\n",
    "    # 구슬 수만큼 체크리스트 생성\n",
    "    floorNoBreak = [0] * d\n",
    "    for i in range(d):\n",
    "        for j in range(r-1):\n",
    "            floorNoBreak[i] += 1\n",
    "            Floor = convertToDecimal(r, d, floorNoBreak)\n",
    "            if Floor > n:\n",
    "                floorNoBreak[i] -= 1\n",
    "                break\n",
    "            print('Drop Ball {} from Floor {}'.format(i+1, Floor))\n",
    "            yes = input('Did the ball break (yes/no)?: ')\n",
    "            numDrops += 1\n",
    "            if yes == 'yes':\n",
    "                floorNoBreak[i] -= 1\n",
    "                break\n",
    "    hardness = convertToDecimal(r, d, floorNoBreak)\n",
    "    return hardness, numDrops\n",
    "def convertToDecimal(r, d, rep):\n",
    "    number = 0\n",
    "    for i in range(d-1):\n",
    "        number = (number + rep[i]) * r\n",
    "    number += rep[d-1]\n",
    "    return number"
   ]
  },
  {
   "cell_type": "code",
   "execution_count": 12,
   "metadata": {},
   "outputs": [
    {
     "name": "stdout",
     "output_type": "stream",
     "text": [
      "Radix chosen is 3\n",
      "Drop Ball 2 from Floor 81\n",
      "Did the ball break (yes/no)?: no\n",
      "Drop Ball 3 from Floor 108\n",
      "Did the ball break (yes/no)?: no\n",
      "Drop Ball 4 from Floor 117\n",
      "Did the ball break (yes/no)?: no\n",
      "Drop Ball 4 from Floor 126\n",
      "Did the ball break (yes/no)?: no\n",
      "Drop Ball 6 from Floor 127\n",
      "Did the ball break (yes/no)?: no\n",
      "Drop Ball 6 from Floor 128\n",
      "Did the ball break (yes/no)?: no\n"
     ]
    },
    {
     "data": {
      "text/plain": [
       "(128, 6)"
      ]
     },
     "execution_count": 12,
     "metadata": {},
     "output_type": "execute_result"
    }
   ],
   "source": [
    "Hardness(128,6)"
   ]
  },
  {
   "cell_type": "code",
   "execution_count": 13,
   "metadata": {
    "scrolled": true
   },
   "outputs": [
    {
     "data": {
      "text/plain": [
       "2.244924096618746"
      ]
     },
     "execution_count": 13,
     "metadata": {},
     "output_type": "execute_result"
    }
   ],
   "source": [
    "128**(1/6)"
   ]
  },
  {
   "cell_type": "code",
   "execution_count": null,
   "metadata": {},
   "outputs": [],
   "source": []
  },
  {
   "cell_type": "code",
   "execution_count": null,
   "metadata": {},
   "outputs": [],
   "source": []
  },
  {
   "cell_type": "code",
   "execution_count": null,
   "metadata": {},
   "outputs": [],
   "source": []
  },
  {
   "cell_type": "code",
   "execution_count": null,
   "metadata": {},
   "outputs": [],
   "source": []
  },
  {
   "cell_type": "code",
   "execution_count": 36,
   "metadata": {},
   "outputs": [
    {
     "name": "stdout",
     "output_type": "stream",
     "text": [
      "공백으로 구분된 N과 K를 차례대로 입력해 주세요: 37 4\n",
      "공백으로 구분된 N개의 정수를 입력해 주세요: 1 2 3 4 5 6 7 8 9 10 11 12 13 14 15 16 17 18 19 20 21 22 23 24 25 26 27 28 29 30 31 32 33 34 35 36 37\n",
      "12\n"
     ]
    }
   ],
   "source": [
    "NK = input(\"공백으로 구분된 N과 K를 차례대로 입력해 주세요: \")\n",
    "input(\"공백으로 구분된 N개의 정수를 입력해 주세요: \")\n",
    "n, k = NK.split(' ')\n",
    "n, k = int(n), int(k)\n",
    "ans = (n-k)//(k-1)\n",
    "if (n-k)%(k-1):\n",
    "    ans += 2\n",
    "else:\n",
    "    ans += 1\n",
    "print(ans)"
   ]
  },
  {
   "cell_type": "code",
   "execution_count": null,
   "metadata": {},
   "outputs": [],
   "source": []
  }
 ],
 "metadata": {
  "kernelspec": {
   "display_name": "Python 3",
   "language": "python",
   "name": "python3"
  },
  "language_info": {
   "codemirror_mode": {
    "name": "ipython",
    "version": 3
   },
   "file_extension": ".py",
   "mimetype": "text/x-python",
   "name": "python",
   "nbconvert_exporter": "python",
   "pygments_lexer": "ipython3",
   "version": "3.7.4"
  }
 },
 "nbformat": 4,
 "nbformat_minor": 2
}
