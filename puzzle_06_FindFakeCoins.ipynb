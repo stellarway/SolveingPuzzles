{
 "cells": [
  {
   "cell_type": "markdown",
   "metadata": {},
   "source": [
    "## (1) 가짜가 없을 때!"
   ]
  },
  {
   "cell_type": "code",
   "execution_count": 27,
   "metadata": {},
   "outputs": [],
   "source": [
    "coinsList = [10]*27\n",
    "coinsList[6] = 11"
   ]
  },
  {
   "cell_type": "code",
   "execution_count": 30,
   "metadata": {},
   "outputs": [],
   "source": [
    "def compare(groupA, groupB):\n",
    "    if sum(groupA) > sum(groupB):\n",
    "        result = 'left'\n",
    "    elif sum(groupA) < sum(groupB):\n",
    "        result = 'right'\n",
    "    else:\n",
    "        result = 'equal'\n",
    "    return result\n",
    "\n",
    "def splitCoins(coinsList):\n",
    "    length = len(coinsList)\n",
    "    split = length//3\n",
    "    group1 = coinsList[0:split]\n",
    "    group2 = coinsList[split:split*2]\n",
    "    group3 = coinsList[split*2:length]\n",
    "    return group1, group2, group3\n",
    "\n",
    "def findFakeGroup(group1, group2, group3):\n",
    "    whichOne = compare(group1, group2)\n",
    "    if whichOne == 'left':\n",
    "        fakeGroup = group1\n",
    "    elif whichOne == 'right':\n",
    "        fakeGroup = group2\n",
    "    else:\n",
    "        fakeGroup = group3\n",
    "    return fakeGroup\n",
    "\n",
    "def CoinComparison(coinsList):\n",
    "    if sum(coinsList) == coinsList[0]*len(coinsList):\n",
    "        print('There is no fake coin!')\n",
    "        return\n",
    "    else:\n",
    "        cnt = 0\n",
    "        currList = coinsList\n",
    "        while len(currList) > 1:\n",
    "            group1, group2, group3 = splitCoins(currList)\n",
    "            currList = findFakeGroup(group1, group2, group3)\n",
    "            cnt += 1\n",
    "        fake = currList[0]\n",
    "        idx = coinsList.index(fake) + 1\n",
    "        print('The fake coin is coin', idx, 'in the original list')\n",
    "\n",
    "        print('Number of weighings:', cnt)\n",
    "        return"
   ]
  },
  {
   "cell_type": "code",
   "execution_count": 31,
   "metadata": {},
   "outputs": [
    {
     "name": "stdout",
     "output_type": "stream",
     "text": [
      "The fake coin is coin 7 in the original list\n",
      "Number of weighings: 3\n"
     ]
    }
   ],
   "source": [
    "CoinComparison(coinsList)"
   ]
  },
  {
   "cell_type": "markdown",
   "metadata": {},
   "source": [
    "## (2) 가짜 동전의 무게가 '다르다'는 사실만 알 때"
   ]
  },
  {
   "cell_type": "code",
   "execution_count": 59,
   "metadata": {},
   "outputs": [],
   "source": [
    "def splitCoins(coinsList):\n",
    "    length = len(coinsList)\n",
    "    split = length//3\n",
    "    group1 = coinsList[0:split]\n",
    "    group2 = coinsList[split:split*2]\n",
    "    group3 = coinsList[split*2:length]\n",
    "    return group1, group2, group3\n",
    "\n",
    "def compare(origin, compare):\n",
    "    return 'HEAVIER' if (origin > compare) else 'LIGHTER'\n",
    "\n",
    "def findFakeType(group1, group2, group3):\n",
    "    a, b, c = sum(group1), sum(group2), sum(group3)\n",
    "    if a == b and b == c:\n",
    "        return None\n",
    "    if a-b:\n",
    "        if a-c:\n",
    "            return compare(a, b)\n",
    "        else:\n",
    "            return compare(b, a)\n",
    "    else:\n",
    "        return compare(c, a)\n",
    "\n",
    "def findFakeGroup(group1, group2, group3):\n",
    "    a, b, c = sum(group1), sum(group2), sum(group3)\n",
    "    if a-b:\n",
    "        if a-c:\n",
    "            return group1\n",
    "        else:\n",
    "            return group2\n",
    "    else:\n",
    "        return group3\n",
    "\n",
    "def CoinComparison(coinsList):\n",
    "    if len(coinsList) < 3:\n",
    "        return print('We cannot find fake coins with this list!')\n",
    "    else:\n",
    "        cnt = 0\n",
    "        currList = coinsList\n",
    "        group1, group2, group3 = splitCoins(currList)\n",
    "        fakeType = findFakeType(group1, group2, group3)\n",
    "\n",
    "        if fakeType:\n",
    "            while len(currList) > 1:\n",
    "                group1, group2, group3 = splitCoins(currList)\n",
    "                currList = findFakeGroup(group1, group2, group3)\n",
    "                cnt += 1\n",
    "            fake = currList[0]\n",
    "            idx = coinsList.index(fake) + 1\n",
    "            print('The fake coin is the {} than oringinal coins.'.format(fakeType))\n",
    "            print('The fake coin is coin no.{} in the original list.'.format(idx))\n",
    "            print('Number of weighings:', cnt)\n",
    "            return\n",
    "        else:\n",
    "            return print('There is no fake coin!')"
   ]
  },
  {
   "cell_type": "code",
   "execution_count": 60,
   "metadata": {},
   "outputs": [
    {
     "name": "stdout",
     "output_type": "stream",
     "text": [
      "The fake coin is the HEAVIER than oringinal coins.\n",
      "The fake coin is coin no.7 in the original list.\n",
      "Number of weighings: 3\n"
     ]
    }
   ],
   "source": [
    "CoinComparison(coinsList)"
   ]
  },
  {
   "cell_type": "markdown",
   "metadata": {},
   "source": [
    "## (3) two fake coins!"
   ]
  },
  {
   "cell_type": "code",
   "execution_count": 92,
   "metadata": {},
   "outputs": [],
   "source": [
    "def splitCoins(coinsList):\n",
    "    length = len(coinsList)\n",
    "    split = length//3\n",
    "    group1 = coinsList[0:split]\n",
    "    group2 = coinsList[split:split*2]\n",
    "    group3 = coinsList[split*2:length]\n",
    "    return group1, group2, group3\n",
    "\n",
    "def compare(group1, group2, group3):\n",
    "    a, b, c = sum(group1), sum(group2), sum(group3)\n",
    "    heavier = []\n",
    "    if a > b:\n",
    "        return group1\n",
    "    elif a < b:\n",
    "        return group2\n",
    "    if b > c:\n",
    "        return group2\n",
    "    elif b < c:\n",
    "        return group3\n",
    "    if c > a:\n",
    "        return group3\n",
    "    elif c < a:\n",
    "        return group1\n",
    "\n",
    "def coinComparison(coinsList):\n",
    "    if len(coinsList) < 3:\n",
    "        return print('We cannot find fake coins with this list!')\n",
    "    else:\n",
    "        cnt = 0\n",
    "        currList = coinsList\n",
    "        group1, group2, group3 = splitCoins(currList)\n",
    "        if sum(group1) == sum(group2) and sum(group2) == sum(group3):\n",
    "            return (print('There is no fake coin!'))\n",
    "        else:\n",
    "            while len(currList) > 1:\n",
    "                group1, group2, group3 = splitCoins(currList)\n",
    "                currList = compare(group1, group2, group3)\n",
    "                cnt += 1\n",
    "            fake = currList[0]\n",
    "            idx = coinsList.index(fake) + 1\n",
    "            print('The fake coin is coin no.{} in the original list.'.format(idx))\n",
    "            print('Number of weighings:', cnt)\n",
    "            return\n"
   ]
  },
  {
   "cell_type": "code",
   "execution_count": 93,
   "metadata": {},
   "outputs": [],
   "source": [
    "coinsList = [10]*27"
   ]
  },
  {
   "cell_type": "code",
   "execution_count": 94,
   "metadata": {
    "scrolled": true
   },
   "outputs": [
    {
     "name": "stdout",
     "output_type": "stream",
     "text": [
      "There is no fake coin!\n"
     ]
    }
   ],
   "source": [
    "coinComparison(coinsList)"
   ]
  },
  {
   "cell_type": "code",
   "execution_count": 95,
   "metadata": {},
   "outputs": [],
   "source": [
    "coinsList = [10]*27\n",
    "coinsList[6] = 11\n",
    "coinsList[25] = 11"
   ]
  },
  {
   "cell_type": "code",
   "execution_count": 96,
   "metadata": {
    "scrolled": true
   },
   "outputs": [
    {
     "name": "stdout",
     "output_type": "stream",
     "text": [
      "The fake coin is coin no.7 in the original list.\n",
      "Number of weighings: 3\n"
     ]
    }
   ],
   "source": [
    "coinComparison(coinsList)"
   ]
  }
 ],
 "metadata": {
  "kernelspec": {
   "display_name": "Python 3",
   "language": "python",
   "name": "python3"
  },
  "language_info": {
   "codemirror_mode": {
    "name": "ipython",
    "version": 3
   },
   "file_extension": ".py",
   "mimetype": "text/x-python",
   "name": "python",
   "nbconvert_exporter": "python",
   "pygments_lexer": "ipython3",
   "version": "3.7.4"
  }
 },
 "nbformat": 4,
 "nbformat_minor": 2
}
