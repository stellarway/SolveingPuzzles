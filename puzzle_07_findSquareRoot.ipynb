{
 "cells": [
  {
   "cell_type": "code",
   "execution_count": 1,
   "metadata": {},
   "outputs": [],
   "source": [
    "def findSquareRoot(x):\n",
    "    if x < 0:\n",
    "        print('Sorry, no imaginary numbers!')\n",
    "        return\n",
    "    ans = 0\n",
    "    while ans**2 < x:\n",
    "        ans += 1\n",
    "    if ans**2 != x:\n",
    "        print(x, 'is not a perfect square')\n",
    "        print('Square root of {} is close to {}'.format(x, ans-1))\n",
    "    else:\n",
    "        print('Square root of {} is {}'.format(x, ans))"
   ]
  },
  {
   "cell_type": "code",
   "execution_count": 7,
   "metadata": {},
   "outputs": [
    {
     "name": "stdout",
     "output_type": "stream",
     "text": [
      "255 is not a perfect square\n",
      "Square root of 255 is close to 15\n"
     ]
    }
   ],
   "source": [
    "findSquareRoot(255)"
   ]
  },
  {
   "cell_type": "code",
   "execution_count": 8,
   "metadata": {},
   "outputs": [],
   "source": [
    "def findSquareRootWithinError(x, epsilon, increment):\n",
    "    if x < 0:\n",
    "        print('Sorry, no imaginary numbers!')\n",
    "        return\n",
    "    numGuesses = 0\n",
    "    ans = 0.0\n",
    "    while x - ans**2 > epsilon:\n",
    "        ans += increment\n",
    "        numGuesses += 1\n",
    "    print('numGuesses =', numGuesses)\n",
    "    if abs(x - ans**2) > epsilon:\n",
    "        print('Failed on square root of', x)\n",
    "    else:\n",
    "        print('{} is close to square root of {}'.format(ans, x))"
   ]
  },
  {
   "cell_type": "code",
   "execution_count": 11,
   "metadata": {},
   "outputs": [
    {
     "name": "stdout",
     "output_type": "stream",
     "text": [
      "numGuesses = 15969\n",
      "15.968999999996589 is close to square root of 255\n"
     ]
    }
   ],
   "source": [
    "findSquareRootWithinError(255, 0.01, 0.001)"
   ]
  },
  {
   "cell_type": "code",
   "execution_count": 14,
   "metadata": {},
   "outputs": [],
   "source": [
    "def biSearch(x, epsilon):\n",
    "    if x < 0:\n",
    "        print('Sorry, imaginary numbers are out of scope!')\n",
    "        return\n",
    "    numGuesses = 0 \n",
    "    low = 0.0\n",
    "    high = x\n",
    "    ans = (high + low)/2.0\n",
    "    while abs(ans**2 - x) >= epsilon:\n",
    "        if ans**2 < x:\n",
    "            low = ans\n",
    "        else:\n",
    "            high = ans\n",
    "        ans = (high + low)/2.0\n",
    "        numGuesses += 1\n",
    "    print('numGuesses =', numGuesses)\n",
    "    print('{} is close to square root of {}'.format(ans,x))"
   ]
  },
  {
   "cell_type": "code",
   "execution_count": 15,
   "metadata": {},
   "outputs": [
    {
     "name": "stdout",
     "output_type": "stream",
     "text": [
      "numGuesses = 24\n",
      "255.99804684519768 is close to square root of 65535\n"
     ]
    }
   ],
   "source": [
    "biSearch(65535, .01)"
   ]
  },
  {
   "cell_type": "code",
   "execution_count": null,
   "metadata": {},
   "outputs": [],
   "source": []
  }
 ],
 "metadata": {
  "kernelspec": {
   "display_name": "Python 3",
   "language": "python",
   "name": "python3"
  },
  "language_info": {
   "codemirror_mode": {
    "name": "ipython",
    "version": 3
   },
   "file_extension": ".py",
   "mimetype": "text/x-python",
   "name": "python",
   "nbconvert_exporter": "python",
   "pygments_lexer": "ipython3",
   "version": "3.7.4"
  }
 },
 "nbformat": 4,
 "nbformat_minor": 2
}
