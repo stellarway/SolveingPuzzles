{
 "cells": [
  {
   "cell_type": "markdown",
   "metadata": {},
   "source": [
    "## 0. 책에서 제시된 코드"
   ]
  },
  {
   "cell_type": "code",
   "execution_count": 1,
   "metadata": {},
   "outputs": [],
   "source": [
    "talents = ['Sing', 'Dance', 'Magic', 'Act', 'Flex', 'Code']\n",
    "Candidates = ['Aly', 'Bob', 'Cal', 'Don', 'Eve', 'Fay']\n",
    "CandidateTalents = [['Flex', 'Code'], ['Dance', 'Magic'], \n",
    "                    ['Sing', 'Magic'], ['Sing', 'Dance'],\n",
    "                    ['Dance', 'Act', 'Code'], ['Act', 'Code']]"
   ]
  },
  {
   "cell_type": "code",
   "execution_count": 4,
   "metadata": {},
   "outputs": [],
   "source": [
    "def Hire4Show(candList, candTalents, talentList):\n",
    "    n = len(candList)\n",
    "    hire = candList[:]\n",
    "    for i in range(2**n):\n",
    "        Combination = []\n",
    "        num = i\n",
    "        for j in range(n):\n",
    "            if num % 2:\n",
    "                Combination = [candList[n-1-j]] + Combination\n",
    "            num = num//2\n",
    "        if Good(Combination, candList, candTalents, talentList):\n",
    "            if len(hire) > len(Combination):\n",
    "                hire = Combination\n",
    "    print('Optimum Solution:', hire)\n",
    "\n",
    "def Good(Comb, candList, candTalents, AllTalents):\n",
    "    for tal in AllTalents:\n",
    "        cover = False\n",
    "        for cand in Comb:\n",
    "            candTal = candTalents[candList.index(cand)]\n",
    "            if tal in candTal:\n",
    "                cover = True\n",
    "        if not cover:\n",
    "            return False\n",
    "    return True"
   ]
  },
  {
   "cell_type": "code",
   "execution_count": 5,
   "metadata": {},
   "outputs": [
    {
     "name": "stdout",
     "output_type": "stream",
     "text": [
      "Optimum Solution: ['Aly', 'Cal', 'Eve']\n"
     ]
    }
   ],
   "source": [
    "Hire4Show(Candidates, CandidateTalents, talents)"
   ]
  },
  {
   "cell_type": "markdown",
   "metadata": {},
   "source": [
    "## (1) 어떤 후보의 재능이 다른 후보에 의해 모두 포함될 때 최적화"
   ]
  },
  {
   "cell_type": "code",
   "execution_count": 147,
   "metadata": {},
   "outputs": [],
   "source": [
    "talents = ['Sing', 'Dance', 'Magic', 'Act', 'Flex', 'Code']\n",
    "Candidates = ['Aly', 'Bob', 'Cal', 'Don', 'Eve', 'Fay']\n",
    "CandidateTalents = [['Flex', 'Code'], ['Dance', 'Magic'], \n",
    "                    ['Sing', 'Magic'], ['Sing', 'Dance'],\n",
    "                    ['Dance', 'Act', 'Code'], ['Act', 'Code']]"
   ]
  },
  {
   "cell_type": "code",
   "execution_count": 15,
   "metadata": {},
   "outputs": [],
   "source": [
    "encoded = []\n",
    "for candtal in CandidateTalents:\n",
    "    code = []\n",
    "    for t in talents:\n",
    "        if t in candtal:\n",
    "            code.append(1)\n",
    "        else:\n",
    "            code.append(0)\n",
    "    encoded.append(code)"
   ]
  },
  {
   "cell_type": "code",
   "execution_count": 148,
   "metadata": {},
   "outputs": [],
   "source": [
    "def Hire4Show(candList, candTalents, talentList):\n",
    "    candList, candTalents = removeLesser(candList, candTalents)\n",
    "    n = len(candList)\n",
    "    hire = candList[:]\n",
    "    for i in range(2**n):\n",
    "        Combination = []\n",
    "        num = i\n",
    "        for j in range(n):\n",
    "            if num % 2:\n",
    "                Combination = [candList[n-1-j]] + Combination\n",
    "            num = num//2\n",
    "        if Good(Combination, candList, candTalents, talentList):\n",
    "            if len(hire) > len(Combination):\n",
    "                hire = Combination\n",
    "    print('Optimum Solution:', hire)\n",
    "\n",
    "def removeLesser(candList, candTalents):\n",
    "    for idx, i in enumerate(candTalents):\n",
    "        for jdx, j in enumerate(candTalents):\n",
    "            if (idx != jdx) and (len(set(i+j)) == max(len(i), len(j))):\n",
    "                if len(i) > len(j):\n",
    "                    candTalents.remove(j)\n",
    "                    candList.pop(jdx)\n",
    "                else:\n",
    "                    candTalents.remove(i)\n",
    "                    candList.pop(idx)\n",
    "    return candList, candTalents\n",
    "    \n",
    "def Good(Comb, candList, candTalents, AllTalents):\n",
    "    for tal in AllTalents:\n",
    "        cover = False\n",
    "        for cand in Comb:\n",
    "            candTal = candTalents[candList.index(cand)]\n",
    "            if tal in candTal:\n",
    "                cover = True\n",
    "        if not cover:\n",
    "            return False\n",
    "    return True"
   ]
  },
  {
   "cell_type": "code",
   "execution_count": 149,
   "metadata": {},
   "outputs": [
    {
     "name": "stdout",
     "output_type": "stream",
     "text": [
      "Optimum Solution: ['Aly', 'Cal', 'Eve']\n"
     ]
    }
   ],
   "source": [
    "Hire4Show(Candidates, CandidateTalents, talents)"
   ]
  },
  {
   "cell_type": "markdown",
   "metadata": {},
   "source": [
    "## (2) 유일한 재능을 가지고 있는 후보 선택"
   ]
  },
  {
   "cell_type": "code",
   "execution_count": 141,
   "metadata": {},
   "outputs": [],
   "source": [
    "talents = ['Sing', 'Dance', 'Magic', 'Act', 'Flex', 'Code']\n",
    "Candidates = ['Aly', 'Bob', 'Cal', 'Don', 'Eve', 'Fay']\n",
    "CandidateTalents = [['Flex', 'Code'], ['Dance', 'Magic'], \n",
    "                    ['Sing', 'Magic'], ['Sing', 'Dance'],\n",
    "                    ['Dance', 'Act', 'Code'], ['Act', 'Code']]"
   ]
  },
  {
   "cell_type": "code",
   "execution_count": 128,
   "metadata": {},
   "outputs": [],
   "source": [
    "encoded = []\n",
    "for candtal in CandidateTalents:\n",
    "    code = []\n",
    "    for t in talents:\n",
    "        if t in candtal:\n",
    "            code.append(1)\n",
    "        else:\n",
    "            code.append(0)\n",
    "    encoded.append(code)"
   ]
  },
  {
   "cell_type": "code",
   "execution_count": 129,
   "metadata": {},
   "outputs": [
    {
     "data": {
      "text/plain": [
       "[[0, 0, 0, 0, 1, 1],\n",
       " [0, 1, 1, 0, 0, 0],\n",
       " [1, 0, 1, 0, 0, 0],\n",
       " [1, 1, 0, 0, 0, 0],\n",
       " [0, 1, 0, 1, 0, 1],\n",
       " [0, 0, 0, 1, 0, 1]]"
      ]
     },
     "execution_count": 129,
     "metadata": {},
     "output_type": "execute_result"
    }
   ],
   "source": [
    "encoded"
   ]
  },
  {
   "cell_type": "code",
   "execution_count": 132,
   "metadata": {},
   "outputs": [
    {
     "data": {
      "text/plain": [
       "['Aly']"
      ]
     },
     "execution_count": 132,
     "metadata": {},
     "output_type": "execute_result"
    }
   ],
   "source": [
    "mustCand = []\n",
    "for i in range(len(talents)):\n",
    "    must = True\n",
    "    total = 0\n",
    "    remember = False\n",
    "    for idx, code in enumerate(encoded):\n",
    "        if code[i]:\n",
    "            total += code[i]\n",
    "            remember = idx\n",
    "        if total > 1:\n",
    "            must = False\n",
    "            remember = False\n",
    "            break\n",
    "    if must:\n",
    "        mustCand.append(Candidates[remember])\n",
    "mustCand"
   ]
  },
  {
   "cell_type": "markdown",
   "metadata": {},
   "source": [
    "### 위의 두 코드를 간결하게 합치기"
   ]
  },
  {
   "cell_type": "code",
   "execution_count": 146,
   "metadata": {},
   "outputs": [
    {
     "data": {
      "text/plain": [
       "(['Fay', 'Cal', 'Don', 'Bob', 'Eve'], ['Aly'])"
      ]
     },
     "execution_count": 146,
     "metadata": {},
     "output_type": "execute_result"
    }
   ],
   "source": [
    "examine = [0]*len(talents)\n",
    "mustCand = []\n",
    "for idx, t in enumerate(talents):\n",
    "    must = True\n",
    "    remember = False\n",
    "    for jdx, candtal in enumerate(CandidateTalents):\n",
    "        if t in candtal:\n",
    "            examine[idx] += 1\n",
    "            remember = jdx\n",
    "            if examine[idx] > 1:\n",
    "                must = False\n",
    "                remember = False\n",
    "                break\n",
    "    if must :\n",
    "        mustCand.append(Candidates[remember])\n",
    "new_candList = list(set(Candidates) - set(mustCand))\n",
    "new_candList, mustCand"
   ]
  },
  {
   "cell_type": "markdown",
   "metadata": {},
   "source": [
    "### 해당되는 재능 테이블에서 제거"
   ]
  },
  {
   "cell_type": "code",
   "execution_count": 167,
   "metadata": {},
   "outputs": [
    {
     "data": {
      "text/plain": [
       "(['Fay', 'Cal', 'Don', 'Bob', 'Eve'], ['Aly'])"
      ]
     },
     "execution_count": 167,
     "metadata": {},
     "output_type": "execute_result"
    }
   ],
   "source": [
    "examine = [0]*len(talents)\n",
    "mustCand = []\n",
    "for idx, t in enumerate(talents):\n",
    "    must = True\n",
    "    remember = False\n",
    "    for jdx, candtal in enumerate(CandidateTalents):\n",
    "        if t in candtal:\n",
    "            examine[idx] += 1\n",
    "            remember = jdx\n",
    "            if examine[idx] > 1:\n",
    "                must = False\n",
    "                remember = False\n",
    "                break\n",
    "    if must :\n",
    "        mustCand.append(Candidates[remember])\n",
    "new_candList = list(set(Candidates) - set(mustCand))\n",
    "new_candList, mustCand"
   ]
  },
  {
   "cell_type": "markdown",
   "metadata": {},
   "source": [
    "### 최종 코드"
   ]
  },
  {
   "cell_type": "code",
   "execution_count": 257,
   "metadata": {},
   "outputs": [],
   "source": [
    "talents = ['Sing', 'Dance', 'Magic', 'Act', 'Flex', 'Code']\n",
    "Candidates = ['Aly', 'Bob', 'Cal', 'Don', 'Eve', 'Fay']\n",
    "CandidateTalents = [['Flex', 'Code'], ['Dance', 'Magic'], \n",
    "                    ['Sing', 'Magic'], ['Sing', 'Dance'],\n",
    "                    ['Dance', 'Act', 'Code'], ['Act', 'Code']]\n",
    "\n",
    "def Hire4Show(candList, candTalents, talentList):\n",
    "\n",
    "    candList, mustCand, candTalents, talentList = pickOnlyOne(candList, candTalents, talentList)\n",
    "    candList, candTalents = removeLesser(candList, candTalents)\n",
    "    \n",
    "    n = len(candList)\n",
    "    hire = candList[:]\n",
    "    for i in range(2**n):\n",
    "        Combination = []\n",
    "        num = i\n",
    "        for j in range(n):\n",
    "            if num % 2:\n",
    "                Combination = [candList[n-1-j]] + Combination\n",
    "            num = num//2\n",
    "        if Good(Combination, candList, candTalents, talentList):\n",
    "            if len(hire) > len(Combination):\n",
    "                hire = Combination\n",
    "    print('Optimum Solution:', hire + mustCand)\n",
    "\n",
    "def removeLesser(candList, candTalents):\n",
    "    for idx, i in enumerate(candTalents):\n",
    "        for jdx, j in enumerate(candTalents):\n",
    "            # 자기 자신을 제외하고, 두 리스트의 합집합의 길이가 더 긴 리스트의 길이와 같으면 포함관계로 생각\n",
    "            if (idx != jdx) and (len(set(i+j)) == max(len(i), len(j))):\n",
    "                # 길이가 더 작은 쪽을 없애주기\n",
    "                if len(i) < len(j):\n",
    "                    candTalents.remove(i)\n",
    "                    candList.pop(idx)\n",
    "                else:\n",
    "                    candTalents.remove(j)\n",
    "                    candList.pop(jdx)\n",
    "    return candList, candTalents\n",
    "\n",
    "def pickOnlyOne(candList, candTalents, talentList):\n",
    "    examine = [0]*len(talentList) # 지금까지 2개 이상 언급되었는지 아닌지 따져주는 구분자\n",
    "    mustCand = [] # 반드시 포함시켜야 하는 후보자\n",
    "    for idx, t in enumerate(talentList):\n",
    "        must = True # 반드시의 여부를 따져주는 구분자\n",
    "        for jdx, candtal in enumerate(candTalents):\n",
    "            if t in candtal:\n",
    "                examine[idx] += 1\n",
    "                remember = jdx # 현재 위치 기억\n",
    "                if examine[idx] > 1:\n",
    "                    must = False\n",
    "                    break\n",
    "        # '반드시' == True일 때 반드시 참여시킬 후보자 리스트에 추가\n",
    "        if must :\n",
    "            mustCand.append(candList[remember])\n",
    "    # 반드시 리스트가 있을 때만 아래 작동시켜서 각종 변수 업데이트\n",
    "    if mustCand:\n",
    "        for cand in mustCand:\n",
    "            cand_idx = candList.index(cand)\n",
    "            candList.remove(cand)\n",
    "            for t in candTalents[cand_idx]:\n",
    "                try:\n",
    "                    talentList.remove(t)\n",
    "                except:\n",
    "                    pass\n",
    "            candTalents.pop(cand_idx)    \n",
    "    return candList, mustCand, candTalents, talentList\n",
    "    \n",
    "def Good(Comb, candList, candTalents, AllTalents):\n",
    "    for tal in AllTalents:\n",
    "        cover = False\n",
    "        for cand in Comb:\n",
    "            candTal = candTalents[candList.index(cand)]\n",
    "            if tal in candTal:\n",
    "                cover = True\n",
    "        if not cover:\n",
    "            return False\n",
    "    return True"
   ]
  },
  {
   "cell_type": "code",
   "execution_count": 258,
   "metadata": {},
   "outputs": [
    {
     "name": "stdout",
     "output_type": "stream",
     "text": [
      "Optimum Solution: ['Cal', 'Eve', 'Aly']\n"
     ]
    }
   ],
   "source": [
    "Hire4Show(Candidates, CandidateTalents, talents)"
   ]
  },
  {
   "cell_type": "markdown",
   "metadata": {},
   "source": [
    "## (3) & (4) 최소 비용"
   ]
  },
  {
   "cell_type": "code",
   "execution_count": 279,
   "metadata": {},
   "outputs": [],
   "source": [
    "talentList = [1,2,3,4,5,6,7,8,9]\n",
    "candList = [('A', 3), ('B', 2), ('C', 1), ('D', 4), ('E', 5), ('F', 2), ('G', 7)]\n",
    "candTalents = [[1,5],[1,2,8],[2,3,6,9],[4,6,8],[2,3,9],[7,8,9],[1,3,5]]\n",
    "\n",
    "def Hire4Show(candList, candTalents, talentList):\n",
    "\n",
    "    candList, mustCand, candTalents, talentList = pickOnlyOne(candList, candTalents, talentList)\n",
    "    \n",
    "    n = len(candList)\n",
    "    hire = candList[:]\n",
    "    must_score = get_score(mustCand)\n",
    "    best_score = get_score(candList)\n",
    "    for i in range(2**n):\n",
    "        Combination = []\n",
    "        num = i\n",
    "        for j in range(n):\n",
    "            if num % 2:\n",
    "                Combination = [candList[n-1-j]] + Combination\n",
    "            num = num//2\n",
    "        if Good(Combination, candList, candTalents, talentList):\n",
    "            comb_score = get_score(Combination)\n",
    "            if comb_score < best_score:\n",
    "                hire = Combination\n",
    "                best_score = comb_score\n",
    "    print('Optimum Solution:', hire + mustCand)\n",
    "    print('Weight is:', best_score+must_score)\n",
    "\n",
    "\n",
    "def pickOnlyOne(candList, candTalents, talentList):\n",
    "    examine = [0]*len(talentList) # 지금까지 2개 이상 언급되었는지 아닌지 따져주는 구분자\n",
    "    mustCand = [] # 반드시 포함시켜야 하는 후보자\n",
    "    for idx, t in enumerate(talentList):\n",
    "        must = True # 반드시의 여부를 따져주는 구분자\n",
    "        for jdx, candtal in enumerate(candTalents):\n",
    "            if t in candtal:\n",
    "                examine[idx] += 1\n",
    "                remember = jdx # 현재 위치 기억\n",
    "                if examine[idx] > 1:\n",
    "                    must = False\n",
    "                    break\n",
    "        # '반드시' == True일 때 반드시 참여시킬 후보자 리스트에 추가\n",
    "        if must :\n",
    "            mustCand.append(candList[remember])\n",
    "    # 반드시 리스트가 있을 때만 아래 작동시켜서 각종 변수 업데이트\n",
    "    if mustCand:\n",
    "        for cand in mustCand:\n",
    "            cand_idx = candList.index(cand)\n",
    "            candList.remove(cand)\n",
    "            for t in candTalents[cand_idx]:\n",
    "                try:\n",
    "                    talentList.remove(t)\n",
    "                except:\n",
    "                    pass\n",
    "            candTalents.pop(cand_idx)    \n",
    "    return candList, mustCand, candTalents, talentList\n",
    "    \n",
    "def Good(Comb, candList, candTalents, AllTalents):\n",
    "    for tal in AllTalents:\n",
    "        cover = False\n",
    "        for cand in Comb:\n",
    "            candTal = candTalents[candList.index(cand)]\n",
    "            if tal in candTal:\n",
    "                cover = True\n",
    "        if not cover:\n",
    "            return False\n",
    "    return True\n",
    "\n",
    "def get_score(comb):\n",
    "    score = 0\n",
    "    for i in comb:\n",
    "        score += i[1]\n",
    "    return score"
   ]
  },
  {
   "cell_type": "code",
   "execution_count": 280,
   "metadata": {},
   "outputs": [
    {
     "name": "stdout",
     "output_type": "stream",
     "text": [
      "Optimum Solution: [('A', 3), ('C', 1), ('D', 4), ('F', 2)]\n",
      "Weight is: 10\n"
     ]
    }
   ],
   "source": [
    "Hire4Show(candList, candTalents, talentList)"
   ]
  }
 ],
 "metadata": {
  "kernelspec": {
   "display_name": "Python 3",
   "language": "python",
   "name": "python3"
  },
  "language_info": {
   "codemirror_mode": {
    "name": "ipython",
    "version": 3
   },
   "file_extension": ".py",
   "mimetype": "text/x-python",
   "name": "python",
   "nbconvert_exporter": "python",
   "pygments_lexer": "ipython3",
   "version": "3.7.4"
  }
 },
 "nbformat": 4,
 "nbformat_minor": 2
}
