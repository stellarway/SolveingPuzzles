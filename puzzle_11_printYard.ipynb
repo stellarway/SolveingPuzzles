{
 "cells": [
  {
   "cell_type": "markdown",
   "metadata": {},
   "source": [
    "## 0. 책에 나온 코드"
   ]
  },
  {
   "cell_type": "code",
   "execution_count": 6,
   "metadata": {},
   "outputs": [],
   "source": [
    "def mergeSort(L):\n",
    "    if len(L) == 2:\n",
    "        if L[0] <= L[1]:\n",
    "            return [L[0], L[1]]\n",
    "        else:\n",
    "            return [L[1], L[0]]\n",
    "    else:\n",
    "        middle = len(L)//2\n",
    "        left = mergeSort(L[:middle])\n",
    "        right = mergeSort(L[middle:])\n",
    "        return merge(left, right)\n",
    "def merge(left, right):\n",
    "    result = []\n",
    "    i, j = 0, 0\n",
    "    while i < len(left) and j < len(right):\n",
    "        if left[i] < right[j]:\n",
    "            result.append(left[i])\n",
    "            i += 1\n",
    "        else:\n",
    "            result.append(right[j])\n",
    "            j += 1\n",
    "    while i < len(left):\n",
    "        result.append(left[i])\n",
    "        i += 1\n",
    "    while j < len(right):\n",
    "        result.append(right[j])\n",
    "        j += 1\n",
    "    return result"
   ]
  },
  {
   "cell_type": "code",
   "execution_count": 7,
   "metadata": {},
   "outputs": [
    {
     "data": {
      "text/plain": [
       "[3, 6, 7, 11, 12, 14, 23, 45]"
      ]
     },
     "execution_count": 7,
     "metadata": {},
     "output_type": "execute_result"
    }
   ],
   "source": [
    "inp = [23, 3, 45, 7, 6, 11, 14, 12]\n",
    "mergeSort(inp)"
   ]
  },
  {
   "cell_type": "code",
   "execution_count": 92,
   "metadata": {},
   "outputs": [],
   "source": [
    "def recursiveTile(yard, size, originR, originC, rMiss, cMiss, nextPiece):\n",
    "    quadMiss = 2 * (rMiss >= size//2) + (cMiss >= size//2)\n",
    "    if size == 2:\n",
    "        piecePos = [(0,0), (0,1), (1,0), (1,1)]\n",
    "        piecePos.pop(quadMiss)\n",
    "        for (r, c) in piecePos:\n",
    "            yard[originR +r][originC +c] = nextPiece\n",
    "        nextPiece = nextPiece + 1\n",
    "        return nextPiece\n",
    "    for quad in range(4):\n",
    "        shiftR = size // 2 * (quad >= 2)\n",
    "        shiftC = size // 2 * (quad % 2 ==1)\n",
    "#         print('size: {}, shiftR: {}, shiftC: {}'.format(size, shiftR, shiftC))\n",
    "#         print('originR: {}, orginC: {}'.format(originR, originC))\n",
    "        if quad == quadMiss:\n",
    "#             print(quad,'oooooooooooooooh!')\n",
    "            nextPiece = recursiveTile(yard, size // 2, originR + shiftR, originC + shiftC, rMiss - shiftR, cMiss - shiftC, nextPiece)\n",
    "        else:\n",
    "            newrMiss = (size // 2 - 1) * (quad <2)\n",
    "            newcMiss = (size // 2 - 1) * (quad%2 == 0)\n",
    "#             print('size: {}, newrMiss: {}, newcMiss: {}'.format(size, newrMiss, newcMiss))\n",
    "            nextPiece = recursiveTile(yard, size // 2, originR + shiftR, originC + shiftC, newrMiss, newcMiss, nextPiece)\n",
    "    centerPos = [(r+size // 2 - 1, c + size // 2 - 1)\n",
    "                 for (r, c) in [(0, 0), (0, 1), (1, 0), (1, 1)]]\n",
    "#     print(centerPos, 'centerPosssssss') \n",
    "    centerPos.pop(quadMiss)\n",
    "    for (r, c) in centerPos:\n",
    "        yard[originR + r][originC + c] = nextPiece\n",
    "    printYard(yard)\n",
    "    print('-'*10)\n",
    "    nextPiece = nextPiece + 1\n",
    "    return nextPiece\n",
    "EMPTYPIECE = -1\n",
    "\n",
    "def tileMissingYard(n, rMiss, cMiss):\n",
    "    yard = [[EMPTYPIECE for i in range(2**n)]\n",
    "            for j in range(2**n)]\n",
    "    recursiveTile(yard, 2**n, 0, 0, rMiss, cMiss, 0)\n",
    "    return yard\n",
    "def printYard(yard):\n",
    "    for i in range(len(yard)):\n",
    "        row = ''\n",
    "        for j in range(len(yard[0])):\n",
    "            if yard[i][j] != EMPTYPIECE:\n",
    "                row += chr((yard[i][j] %26) + ord('A'))\n",
    "            else:\n",
    "                row +=' '\n",
    "        print(row)"
   ]
  },
  {
   "cell_type": "code",
   "execution_count": 93,
   "metadata": {},
   "outputs": [
    {
     "name": "stdout",
     "output_type": "stream",
     "text": [
      "AABB    \n",
      "AEEB    \n",
      "CEDD    \n",
      "CCD     \n",
      "        \n",
      "        \n",
      "        \n",
      "        \n",
      "----------\n",
      "AABBFFGG\n",
      "AEEBFJJG\n",
      "CEDDHHJI\n",
      "CCD  HII\n",
      "        \n",
      "        \n",
      "        \n",
      "        \n",
      "----------\n",
      "AABBFFGG\n",
      "AEEBFJJG\n",
      "CEDDHHJI\n",
      "CCD  HII\n",
      "KKL     \n",
      "KOLL    \n",
      "MOON    \n",
      "MMNN    \n",
      "----------\n",
      "AABBFFGG\n",
      "AEEBFJJG\n",
      "CEDDHHJI\n",
      "CCD  HII\n",
      "KKL PP Q\n",
      "KOLLPTQQ\n",
      "MOONRTTS\n",
      "MMNNRRSS\n",
      "----------\n",
      "AABBFFGG\n",
      "AEEBFJJG\n",
      "CEDDHHJI\n",
      "CCDUUHII\n",
      "KKLUPP Q\n",
      "KOLLPTQQ\n",
      "MOONRTTS\n",
      "MMNNRRSS\n",
      "----------\n"
     ]
    }
   ],
   "source": [
    "yard = tileMissingYard(3, 4, 6)"
   ]
  },
  {
   "cell_type": "code",
   "execution_count": 85,
   "metadata": {},
   "outputs": [
    {
     "name": "stdout",
     "output_type": "stream",
     "text": [
      "AABBFFGG\n",
      "AEEBFJJG\n",
      "CEDDHHJI\n",
      "CCDUUHII\n",
      "KKLUPP Q\n",
      "KOLLPTQQ\n",
      "MOONRTTS\n",
      "MMNNRRSS\n"
     ]
    }
   ],
   "source": [
    "printYard(yard)"
   ]
  },
  {
   "cell_type": "markdown",
   "metadata": {},
   "source": [
    "## (1) 4개의 missing tile"
   ]
  },
  {
   "cell_type": "code",
   "execution_count": 97,
   "metadata": {},
   "outputs": [],
   "source": [
    "def recursiveTile(yard, size, originR, originC, rMiss, cMiss, nextPiece):\n",
    "    quadMiss = 2 * (rMiss >= size//2) + (cMiss >= size//2)\n",
    "    if size == 2:\n",
    "        piecePos = [(0,0), (0,1), (1,0), (1,1)]\n",
    "        piecePos.pop(quadMiss)\n",
    "        for (r, c) in piecePos:\n",
    "            yard[originR +r][originC +c] = nextPiece\n",
    "        nextPiece = nextPiece + 1\n",
    "        return nextPiece\n",
    "    for quad in range(4):\n",
    "        shiftR = size // 2 * (quad >= 2)\n",
    "        shiftC = size // 2 * (quad % 2 ==1)\n",
    "        if quad == quadMiss:\n",
    "            nextPiece = recursiveTile(yard, size // 2, originR + shiftR, originC + shiftC, rMiss - shiftR, cMiss - shiftC, nextPiece)\n",
    "        else:\n",
    "            newrMiss = (size // 2 - 1) * (quad <2)\n",
    "            newcMiss = (size // 2 - 1) * (quad%2 == 0)\n",
    "            nextPiece = recursiveTile(yard, size // 2, originR + shiftR, originC + shiftC, newrMiss, newcMiss, nextPiece)\n",
    "    centerPos = [(r+size // 2 - 1, c + size // 2 - 1)\n",
    "                 for (r, c) in [(0, 0), (0, 1), (1, 0), (1, 1)]]\n",
    "    centerPos.pop(quadMiss)\n",
    "    for (r, c) in centerPos:\n",
    "        yard[originR + r][originC + c] = nextPiece\n",
    "    nextPiece = nextPiece + 1\n",
    "    return nextPiece\n",
    "\n",
    "EMPTYPIECE = -1\n",
    "\n",
    "# def boolean(n, mtiles):\n",
    "#     if n < 2:\n",
    "#         return True\n",
    "#     else:\n",
    "#         quads = [0] * 4\n",
    "#         size = 2**n\n",
    "#         for rMiss, cMiss in mtiles:\n",
    "#             quad = 2 * (rMiss >= size//2) + (cMiss >= size//2)\n",
    "#             quads[quad] += 1\n",
    "#         if all(quads):\n",
    "#             return True\n",
    "#         elif (3 in quads) or (4 in quads):\n",
    "#             return True\n",
    "#         else:\n",
    "#             return False\n"
   ]
  },
  {
   "cell_type": "markdown",
   "metadata": {},
   "source": [
    "## (2) 2차원 리스트 분할 정복"
   ]
  },
  {
   "cell_type": "code",
   "execution_count": 50,
   "metadata": {},
   "outputs": [],
   "source": [
    "T = [[1,4,7,11,15],\n",
    "     [2,5,8,12,19],\n",
    "     [3,6,9,16,22],\n",
    "     [10,13,14,17,24],\n",
    "     [18,21,23,26,30]]\n",
    "num = 21"
   ]
  },
  {
   "cell_type": "code",
   "execution_count": 55,
   "metadata": {},
   "outputs": [],
   "source": [
    "originR, originC = 0, 0\n",
    "\n",
    "def rec(T, num, originR, originC):\n",
    "    small_T = [k[originC:] for k in T[originR:]]\n",
    "    size = len(small_T)\n",
    "    if size == 1:\n",
    "        print('size가 1')\n",
    "        if small_T[0][0] == num:\n",
    "            return originR, originC\n",
    "        else:\n",
    "            return False\n",
    "    else:\n",
    "        print('1이 아님')\n",
    "        quads = [(0,0),(0,1),(1,0),(1,1)]\n",
    "        for r, c in quads:\n",
    "            i = (size//2 - 1) + (size//2 + 1) * r\n",
    "            j = (size//2 - 1) + (size//2 + 1) * c\n",
    "\n",
    "            shiftR = size//2 * r\n",
    "            shiftC = size//2 * c\n",
    "\n",
    "            if T[i][j] == num:\n",
    "                return originR + i, originC + j\n",
    "\n",
    "            elif T[i][j] > num:\n",
    "                print('여기까지 왔어')\n",
    "                print(originR+shiftR, originC+shiftC)\n",
    "                rec(T, num, originR+shiftR, originC+shiftC)\n",
    "    #         else:\n",
    "    #             quads.remove((r, c))\n",
    "\n"
   ]
  },
  {
   "cell_type": "code",
   "execution_count": 56,
   "metadata": {},
   "outputs": [
    {
     "name": "stdout",
     "output_type": "stream",
     "text": [
      "1이 아님\n",
      "여기까지 왔어\n",
      "2 2\n",
      "1이 아님\n"
     ]
    }
   ],
   "source": [
    "rec(T, 23,  0, 0)"
   ]
  },
  {
   "cell_type": "code",
   "execution_count": null,
   "metadata": {},
   "outputs": [],
   "source": []
  }
 ],
 "metadata": {
  "kernelspec": {
   "display_name": "Python 3",
   "language": "python",
   "name": "python3"
  },
  "language_info": {
   "codemirror_mode": {
    "name": "ipython",
    "version": 3
   },
   "file_extension": ".py",
   "mimetype": "text/x-python",
   "name": "python",
   "nbconvert_exporter": "python",
   "pygments_lexer": "ipython3",
   "version": "3.7.4"
  }
 },
 "nbformat": 4,
 "nbformat_minor": 2
}
