{
 "cells": [
  {
   "cell_type": "code",
   "execution_count": 14,
   "metadata": {},
   "outputs": [],
   "source": [
    "def noConflicts(board, current, qindex, n):\n",
    "    # 같은 행 퀸 충돌 검사\n",
    "    for j in range(current):\n",
    "        if board[qindex][j] == 1:\n",
    "            return False\n",
    "    # 왼쪽 위 대각선 퀸 충돌 검사\n",
    "    k = 1\n",
    "    while qindex - k >= 0 and current - k >= 0:\n",
    "        if board[qindex - k][current - k] == 1:\n",
    "            return False\n",
    "        k += 1\n",
    "    # 왼쪽 아래 대각선 퀸 충돌 검사\n",
    "    k = 1\n",
    "    while qindex + k < n and current - k >= 0:\n",
    "        if board[qindex + k ][current - k] == 1:\n",
    "            return False\n",
    "        k += 1\n",
    "    return True"
   ]
  },
  {
   "cell_type": "code",
   "execution_count": 22,
   "metadata": {},
   "outputs": [],
   "source": [
    "def FourQueens(n=4):\n",
    "    board = [[0,0,0,0],[0,0,0,0],\n",
    "             [0,0,0,0],[0,0,0,0]]\n",
    "    for i in range(n):\n",
    "        board[i][0] = 1\n",
    "        for j in range(n):\n",
    "            board[j][1] = 1\n",
    "            if noConflicts(board, 1, j, n):\n",
    "                for k in range(n):\n",
    "                    board[k][2] = 1\n",
    "                    if noConflicts(board, 2, k, n):\n",
    "                        for m in range(n):\n",
    "                            board[m][3] = 1\n",
    "                            if noConflicts(board, 3, m, n):\n",
    "                                print(board)\n",
    "                            board[m][3] = 0\n",
    "                    board[k][2] = 0\n",
    "            board[j][1] = 0\n",
    "        board[i][0] = 0\n",
    "    return"
   ]
  },
  {
   "cell_type": "code",
   "execution_count": 24,
   "metadata": {},
   "outputs": [
    {
     "name": "stdout",
     "output_type": "stream",
     "text": [
      "[[0, 0, 1, 0], [1, 0, 0, 0], [0, 0, 0, 1], [0, 1, 0, 0]]\n",
      "[[0, 1, 0, 0], [0, 0, 0, 1], [1, 0, 0, 0], [0, 0, 1, 0]]\n"
     ]
    }
   ],
   "source": [
    "FourQueens()"
   ]
  },
  {
   "cell_type": "code",
   "execution_count": 25,
   "metadata": {},
   "outputs": [],
   "source": [
    "def isSafe(board, current):\n",
    "    for i in range(current):\n",
    "        if (board[i] == board[current]):\n",
    "            return False\n",
    "        if (current - i == abs(board[current]- board[i])):\n",
    "            return False\n",
    "    return True\n",
    "\n",
    "def EightQueens(n=8):\n",
    "    # 위치판 생성\n",
    "    board = [-1] * n\n",
    "    for i in range(n):\n",
    "        board[0] = i\n",
    "        for j in range(n):\n",
    "            board[1] = j\n",
    "            if not isSafe(board, 1):\n",
    "                continue\n",
    "            for k in range(n):\n",
    "                board[2] = k\n",
    "                if not isSafe(board, 2):\n",
    "                    continue\n",
    "                for l in range(n):\n",
    "                    board[3] = l\n",
    "                    if not isSafe(board, 3):\n",
    "                        continue\n",
    "\n"
   ]
  },
  {
   "cell_type": "code",
   "execution_count": null,
   "metadata": {},
   "outputs": [],
   "source": []
  }
 ],
 "metadata": {
  "kernelspec": {
   "display_name": "Python 3",
   "language": "python",
   "name": "python3"
  },
  "language_info": {
   "codemirror_mode": {
    "name": "ipython",
    "version": 3
   },
   "file_extension": ".py",
   "mimetype": "text/x-python",
   "name": "python",
   "nbconvert_exporter": "python",
   "pygments_lexer": "ipython3",
   "version": "3.7.4"
  }
 },
 "nbformat": 4,
 "nbformat_minor": 2
}
