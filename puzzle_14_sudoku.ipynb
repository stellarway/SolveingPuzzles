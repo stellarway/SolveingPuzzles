{
 "cells": [
  {
   "cell_type": "code",
   "execution_count": 1,
   "metadata": {},
   "outputs": [],
   "source": [
    "inp = [[5, 1, 7, 6, 0, 0, 0, 3, 4],\n",
    "       [2, 8, 9, 0, 0, 4, 0, 0, 0],\n",
    "       [3, 4, 6, 2, 0, 5, 0, 9, 0],\n",
    "       [6, 0, 2, 0, 0, 0, 0, 1, 0],\n",
    "       [0, 3, 8, 0, 0, 6, 0, 4, 7],\n",
    "       [0, 0, 0, 0, 0, 0, 0, 0, 0],\n",
    "       [0, 9, 0, 0, 0, 0, 0, 7, 8],\n",
    "       [7, 0, 3, 4, 0, 0, 5, 6, 0],\n",
    "       [0, 0, 0, 0, 0, 0, 0, 0, 0]]"
   ]
  },
  {
   "cell_type": "code",
   "execution_count": 20,
   "metadata": {},
   "outputs": [],
   "source": [
    "in2 = [[5, 1, 7, 6, 0, 0, 0, 3, 4],\n",
    "       [0, 8, 9, 0, 0, 4, 0, 0, 0],\n",
    "       [3, 0, 6, 2, 0, 5, 0, 9, 0],\n",
    "       [6, 0, 0, 0, 0, 0, 0, 1, 0],\n",
    "       [0, 3, 0, 0, 0, 6, 0, 4, 7],\n",
    "       [0, 0, 0, 0, 0, 0, 0, 0, 0],\n",
    "       [0, 9, 0, 0, 0, 0, 0, 7, 8],\n",
    "       [7, 0, 3, 4, 0, 0, 5, 6, 0],\n",
    "       [0, 0, 0, 0, 0, 0, 0, 0, 0]]"
   ]
  },
  {
   "cell_type": "code",
   "execution_count": 29,
   "metadata": {},
   "outputs": [],
   "source": [
    "backtracks = 0\n",
    "def solveSudoku(grid, i=0, j=0):\n",
    "    global backtracks\n",
    "    i, j = findNextCell(grid)\n",
    "    if i == -1:\n",
    "        return True\n",
    "    for e in range(1, 10):\n",
    "        if isValid(grid, i, j, e):\n",
    "            grid[i][j] = e\n",
    "            if solveSudoku(grid, i, j):\n",
    "                return True\n",
    "            backtracks += 1\n",
    "    grid[i][j] = 0\n",
    "    return False\n",
    "\n",
    "def findNextCell(grid):\n",
    "    for x in range(0,9):\n",
    "        for y in range(0,9):\n",
    "            if grid[x][y] == 0:\n",
    "                return x, y\n",
    "    return -1, -1\n",
    "\n",
    "def isValid(grid, i, j, e):\n",
    "    rowOK = all([e != grid[i][x] for x in range(9)])\n",
    "    if rowOK:\n",
    "        columnOK = all([e != grid[x][j] for x in range(9)])\n",
    "        if columnOK:\n",
    "            secTopX, secTopY = 3 * (i//3), 3 * (j//3)\n",
    "            for x in range(secTopX, secTopX+3):\n",
    "                for y in range(secTopY, secTopY+3):\n",
    "                    if grid[x][y] == e:\n",
    "                        return False\n",
    "            return True\n",
    "    return False\n",
    "\n",
    "def printSudoku(grid):\n",
    "    numrow = 0\n",
    "    for row in grid:\n",
    "        if numrow % 3 == 0 and numrow != 0:\n",
    "            print('  ')\n",
    "        print(row[0:3], ' ', row[3:6], ' ', row[6:9])\n",
    "        numrow += 1"
   ]
  },
  {
   "cell_type": "code",
   "execution_count": 9,
   "metadata": {},
   "outputs": [],
   "source": [
    "# solveSudoku(inp)\n",
    "# printSudoku(inp)"
   ]
  },
  {
   "cell_type": "code",
   "execution_count": 21,
   "metadata": {},
   "outputs": [],
   "source": [
    "backtracks = 0\n",
    "def solveSudokuOpt(grid, i=0, j=0):\n",
    "    global backtracks\n",
    "    i, j = findNextCell(grid)\n",
    "    if i == -1:\n",
    "        return True\n",
    "    for e in range(1,10):\n",
    "        if isValid(grid, i, j, e):\n",
    "            impl = makeImp(grid, i, j, e)\n",
    "            if solveSudoku(grid, i, j):\n",
    "                return True\n",
    "            backtracks += 1\n",
    "            undoImp(grid, impl)\n",
    "    return False\n",
    "\n",
    "sectors = [[0, 3, 0, 3], [3, 6, 0, 3], [6, 9, 0, 3],\n",
    "           [0, 3, 3, 6], [3, 6, 3, 6], [6, 9, 3, 6],\n",
    "           [0, 3, 6, 9], [3, 6, 6, 9], [6, 9, 6, 9]]\n",
    "\n",
    "def makeImp(grid, i, j, e):\n",
    "    global sectors\n",
    "    grid[i][j] = e\n",
    "    impl = [(i, j, e)]\n",
    "    for k in range(len(sectors)):\n",
    "        sectinfo = []\n",
    "        vset = {1, 2, 3, 4, 5, 6, 7, 8, 9}\n",
    "        for x in range(sectors[k][0], sectors[k][1]):\n",
    "            for y in range(sectors[k][2], sectors[k][3]):\n",
    "                if grid[x][y] != 0:\n",
    "                    vset.remove(grid[x][y])\n",
    "        for x in range(sectors[k][0], sectors[k][1]):\n",
    "            for y in range(sectors[k][2], sectors[k][3]):\n",
    "                if grid[x][y] == 0:\n",
    "                    sectinfo.append([x, y, vset.copy()])\n",
    "        for m in range(len(sectinfo)):\n",
    "            sin = sectinfo[m]\n",
    "            rowv = set()\n",
    "            for y in range(9):\n",
    "                rowv.add(grid[sin[0]][y])\n",
    "            left = sin[2].difference(rowv)\n",
    "            colv = set()\n",
    "            for x in range(9):\n",
    "                colv.add(grid[x][sin[1]])\n",
    "            left = left.difference(colv)\n",
    "            if len(left) == 1:\n",
    "                val = left.pop()\n",
    "                if isValid(grid, sin[0], sin[1], val):\n",
    "                    grid[sin[0]][sin[1]] = val\n",
    "                    impl.append((sin[0], sin[1], val))\n",
    "    return impl\n",
    "\n",
    "def undoImp(grid, impl):\n",
    "    for i in range(len(impl)):\n",
    "        grid[impl[i][0]][impl[i][1]] = 0\n",
    "        "
   ]
  },
  {
   "cell_type": "code",
   "execution_count": 30,
   "metadata": {},
   "outputs": [
    {
     "name": "stdout",
     "output_type": "stream",
     "text": [
      "[5, 1, 7]   [6, 9, 8]   [2, 3, 4]\n",
      "[2, 8, 9]   [1, 3, 4]   [7, 5, 6]\n",
      "[3, 4, 6]   [2, 7, 5]   [8, 9, 1]\n",
      "  \n",
      "[6, 7, 2]   [8, 4, 9]   [3, 1, 5]\n",
      "[1, 3, 8]   [5, 2, 6]   [9, 4, 7]\n",
      "[9, 5, 4]   [7, 1, 3]   [6, 8, 2]\n",
      "  \n",
      "[4, 9, 5]   [3, 6, 2]   [1, 7, 8]\n",
      "[7, 2, 3]   [4, 8, 1]   [5, 6, 9]\n",
      "[8, 6, 1]   [9, 5, 7]   [4, 2, 3]\n"
     ]
    }
   ],
   "source": [
    "solveSudoku(in2)\n",
    "printSudoku(in2)"
   ]
  },
  {
   "cell_type": "code",
   "execution_count": 31,
   "metadata": {},
   "outputs": [
    {
     "data": {
      "text/plain": [
       "0"
      ]
     },
     "execution_count": 31,
     "metadata": {},
     "output_type": "execute_result"
    }
   ],
   "source": [
    "backtracks"
   ]
  },
  {
   "cell_type": "code",
   "execution_count": 32,
   "metadata": {},
   "outputs": [
    {
     "data": {
      "text/plain": [
       "0"
      ]
     },
     "execution_count": 32,
     "metadata": {},
     "output_type": "execute_result"
    }
   ],
   "source": [
    "backtracks"
   ]
  },
  {
   "cell_type": "code",
   "execution_count": null,
   "metadata": {},
   "outputs": [],
   "source": []
  }
 ],
 "metadata": {
  "kernelspec": {
   "display_name": "Python 3",
   "language": "python",
   "name": "python3"
  },
  "language_info": {
   "codemirror_mode": {
    "name": "ipython",
    "version": 3
   },
   "file_extension": ".py",
   "mimetype": "text/x-python",
   "name": "python",
   "nbconvert_exporter": "python",
   "pygments_lexer": "ipython3",
   "version": "3.7.4"
  }
 },
 "nbformat": 4,
 "nbformat_minor": 2
}
