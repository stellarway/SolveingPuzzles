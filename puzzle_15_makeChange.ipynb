{
 "cells": [
  {
   "cell_type": "markdown",
   "metadata": {},
   "source": [
    "## 00. 책에서 제시된 문제"
   ]
  },
  {
   "cell_type": "code",
   "execution_count": 3,
   "metadata": {},
   "outputs": [],
   "source": [
    "def makeChange(bills, target, highest, sol = []):\n",
    "    if sum(sol) == target:\n",
    "        print(sol)\n",
    "        return\n",
    "    if sum(sol) > target:\n",
    "        return\n",
    "    for bill in bills:\n",
    "        if bill >= highest:\n",
    "            newSol = sol[:]\n",
    "            newSol.append(bill)\n",
    "            makeChange(bills, target, bill, newSol)\n",
    "    return"
   ]
  },
  {
   "cell_type": "code",
   "execution_count": 5,
   "metadata": {},
   "outputs": [
    {
     "name": "stdout",
     "output_type": "stream",
     "text": [
      "[1, 1, 1, 1, 1, 1]\n",
      "[1, 1, 1, 1, 2]\n",
      "[1, 1, 2, 2]\n",
      "[1, 5]\n",
      "[2, 2, 2]\n"
     ]
    }
   ],
   "source": [
    "bills = [1,2,5]\n",
    "makeChange(bills, 6, 1)"
   ]
  },
  {
   "cell_type": "code",
   "execution_count": 6,
   "metadata": {},
   "outputs": [
    {
     "name": "stdout",
     "output_type": "stream",
     "text": [
      "[1, 1, 1, 1, 1, 1, 1, 1, 1, 1, 1, 1, 1, 1, 1, 1]\n",
      "[1, 1, 1, 1, 1, 1, 1, 1, 1, 1, 1, 1, 1, 1, 2]\n",
      "[1, 1, 1, 1, 1, 1, 1, 1, 1, 1, 1, 1, 2, 2]\n",
      "[1, 1, 1, 1, 1, 1, 1, 1, 1, 1, 1, 5]\n",
      "[1, 1, 1, 1, 1, 1, 1, 1, 1, 1, 2, 2, 2]\n",
      "[1, 1, 1, 1, 1, 1, 1, 1, 1, 2, 5]\n",
      "[1, 1, 1, 1, 1, 1, 1, 1, 2, 2, 2, 2]\n",
      "[1, 1, 1, 1, 1, 1, 1, 2, 2, 5]\n",
      "[1, 1, 1, 1, 1, 1, 2, 2, 2, 2, 2]\n",
      "[1, 1, 1, 1, 1, 1, 5, 5]\n",
      "[1, 1, 1, 1, 1, 1, 10]\n",
      "[1, 1, 1, 1, 1, 2, 2, 2, 5]\n",
      "[1, 1, 1, 1, 2, 2, 2, 2, 2, 2]\n",
      "[1, 1, 1, 1, 2, 5, 5]\n",
      "[1, 1, 1, 1, 2, 10]\n",
      "[1, 1, 1, 2, 2, 2, 2, 5]\n",
      "[1, 1, 2, 2, 2, 2, 2, 2, 2]\n",
      "[1, 1, 2, 2, 5, 5]\n",
      "[1, 1, 2, 2, 10]\n",
      "[1, 2, 2, 2, 2, 2, 5]\n",
      "[1, 5, 5, 5]\n",
      "[1, 5, 10]\n",
      "[2, 2, 2, 2, 2, 2, 2, 2]\n",
      "[2, 2, 2, 5, 5]\n",
      "[2, 2, 2, 10]\n"
     ]
    }
   ],
   "source": [
    "bills2 = [1,2,5, 10]\n",
    "makeChange(bills2, 16, 1)"
   ]
  },
  {
   "cell_type": "markdown",
   "metadata": {},
   "source": [
    "## 01. 개수만 세기"
   ]
  },
  {
   "cell_type": "code",
   "execution_count": 16,
   "metadata": {},
   "outputs": [],
   "source": [
    "cnt = 0\n",
    "def makeChange(bills, target, highest, sol = []):\n",
    "    global cnt\n",
    "    if sum(sol) == target:\n",
    "        cnt += 1\n",
    "        return\n",
    "    if sum(sol) > target:\n",
    "        return\n",
    "    for bill in bills:\n",
    "        if bill >= highest:\n",
    "            newSol = sol[:]\n",
    "            newSol.append(bill)\n",
    "            makeChange(bills, target, bill, newSol)\n",
    "    return\n",
    "\n",
    "def printAnswer(bills, target, highest, sol = []):\n",
    "    global cnt\n",
    "    makeChange(bills, target, highest, sol = [])\n",
    "    print('잔돈을 만들기 위한 {}개의 방법이 있습니다.'.format(cnt))"
   ]
  },
  {
   "cell_type": "code",
   "execution_count": 17,
   "metadata": {},
   "outputs": [
    {
     "name": "stdout",
     "output_type": "stream",
     "text": [
      "잔돈을 만들기 위한 5개의 방법이 있습니다.\n"
     ]
    }
   ],
   "source": [
    "bills = [1,2,5]\n",
    "printAnswer(bills, 6, 1)"
   ]
  },
  {
   "cell_type": "markdown",
   "metadata": {},
   "source": [
    "## 02. 제한된 지폐 수"
   ]
  },
  {
   "cell_type": "code",
   "execution_count": 89,
   "metadata": {},
   "outputs": [],
   "source": [
    "def makeChange(bills, target, highest, sol = []):\n",
    "    if sum(sol) == target:\n",
    "        if isPossible(sol, bills):\n",
    "            print(sol)\n",
    "        return\n",
    "    if sum(sol) > target:\n",
    "        return\n",
    "    for bill in bills:\n",
    "        if bill[0] >= highest:\n",
    "            newSol = sol[:]\n",
    "            newSol.append(bill[0])\n",
    "            makeChange(bills, target, bill[0], newSol)\n",
    "    return\n",
    "def makeCounter(sol):\n",
    "    counter = {}\n",
    "    for i in sol:\n",
    "        try:\n",
    "            counter[i] += 1\n",
    "        except:\n",
    "            counter[i] = 1\n",
    "    return counter\n",
    "def isPossible(sol, yourMoney):\n",
    "    counter = makeCounter(sol)\n",
    "    for bill in counter:\n",
    "        for i in yourMoney:\n",
    "            if i[0] == bill and i[1] < counter[bill]:\n",
    "                return\n",
    "            elif i[0] == bill and i[1] >= counter[bill] :\n",
    "                return True\n",
    "            else:\n",
    "                continue"
   ]
  },
  {
   "cell_type": "code",
   "execution_count": 90,
   "metadata": {
    "scrolled": true
   },
   "outputs": [
    {
     "name": "stdout",
     "output_type": "stream",
     "text": [
      "[1, 1, 2, 2]\n",
      "[1, 5]\n",
      "[2, 2, 2]\n"
     ]
    }
   ],
   "source": [
    "money = [(1,3),(2,3),(5,1)]\n",
    "makeChange(money, 6, 1)"
   ]
  },
  {
   "cell_type": "markdown",
   "metadata": {},
   "source": [
    "## 03. 제일 적은 수의 지폐 지불하기"
   ]
  },
  {
   "cell_type": "code",
   "execution_count": 135,
   "metadata": {},
   "outputs": [],
   "source": [
    "num = 1e9\n",
    "sols = []\n",
    "def makeChange(bills, target, highest, sol = []):\n",
    "    global num\n",
    "    global sols\n",
    "    if sum(sol) == target:\n",
    "        if isPossible(sol, bills):\n",
    "            if len(sol) < num:\n",
    "                num = len(sol)\n",
    "                sols.append(sol)\n",
    "            return\n",
    "            \n",
    "    if sum(sol) > target:\n",
    "        return\n",
    "    for bill in bills:\n",
    "        if bill[0] >= highest:\n",
    "            newSol = sol[:]\n",
    "            newSol.append(bill[0])\n",
    "            makeChange(bills, target, bill[0], newSol)\n",
    "    return\n",
    "def makeCounter(sol):\n",
    "    counter = {}\n",
    "    for i in sol:\n",
    "        try:\n",
    "            counter[i] += 1\n",
    "        except:\n",
    "            counter[i] = 1\n",
    "    return counter\n",
    "def isPossible(sol, yourMoney):\n",
    "    counter = makeCounter(sol)\n",
    "    for bill in counter:\n",
    "        for i in yourMoney:\n",
    "            if i[0] == bill and i[1] < counter[bill]:\n",
    "                return\n",
    "            elif i[0] == bill and i[1] >= counter[bill] :\n",
    "                return True\n",
    "            else:\n",
    "                continue\n",
    "def forward(bills, target, highest, sol = []):\n",
    "    makeChange(bills, target, highest, sol = [])\n",
    "    print(sols[-1])\n",
    "    "
   ]
  },
  {
   "cell_type": "code",
   "execution_count": 136,
   "metadata": {
    "scrolled": true
   },
   "outputs": [
    {
     "name": "stdout",
     "output_type": "stream",
     "text": [
      "[1, 5]\n"
     ]
    }
   ],
   "source": [
    "money = [(1,3),(2,3),(5,1)]\n",
    "forward(money, 6, 1)"
   ]
  }
 ],
 "metadata": {
  "kernelspec": {
   "display_name": "Python 3",
   "language": "python",
   "name": "python3"
  },
  "language_info": {
   "codemirror_mode": {
    "name": "ipython",
    "version": 3
   },
   "file_extension": ".py",
   "mimetype": "text/x-python",
   "name": "python",
   "nbconvert_exporter": "python",
   "pygments_lexer": "ipython3",
   "version": "3.7.4"
  }
 },
 "nbformat": 4,
 "nbformat_minor": 2
}
