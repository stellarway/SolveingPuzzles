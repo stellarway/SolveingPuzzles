{
 "cells": [
  {
   "cell_type": "markdown",
   "metadata": {},
   "source": [
    "## 0. 책에 나온 코드"
   ]
  },
  {
   "cell_type": "code",
   "execution_count": 4,
   "metadata": {},
   "outputs": [],
   "source": [
    "def noConflicts(board, current):\n",
    "    for i in range(current):\n",
    "        if (board[i] == board[current]):\n",
    "            return False\n",
    "        if (current - i == abs(board[current] - board[i])):\n",
    "            return False\n",
    "    return True\n",
    "def rQueens(board, current, size):\n",
    "    if (current == size):\n",
    "        return True\n",
    "    else:\n",
    "        for i in range(size):\n",
    "            board[current] = i\n",
    "            print(i, board)\n",
    "            if noConflicts(board, current):\n",
    "                print('진입: {}번 인덱s스에 {} 값 대입'.format(current, i))\n",
    "                found = rQueens(board, current+1, size)\n",
    "                print(found)\n",
    "                if found:\n",
    "                    return True\n",
    "        return False\n",
    "def nQueens(N):\n",
    "    board = [-1] * N\n",
    "    rQueens(board, 0, N)\n",
    "    print(board)"
   ]
  },
  {
   "cell_type": "code",
   "execution_count": 5,
   "metadata": {},
   "outputs": [
    {
     "name": "stdout",
     "output_type": "stream",
     "text": [
      "0 [0, -1, -1, -1]\n",
      "진입: 0번 인덱s스에 0 값 대입\n",
      "0 [0, 0, -1, -1]\n",
      "1 [0, 1, -1, -1]\n",
      "2 [0, 2, -1, -1]\n",
      "진입: 1번 인덱s스에 2 값 대입\n",
      "0 [0, 2, 0, -1]\n",
      "1 [0, 2, 1, -1]\n",
      "2 [0, 2, 2, -1]\n",
      "3 [0, 2, 3, -1]\n",
      "False\n",
      "3 [0, 3, 3, -1]\n",
      "진입: 1번 인덱s스에 3 값 대입\n",
      "0 [0, 3, 0, -1]\n",
      "1 [0, 3, 1, -1]\n",
      "진입: 2번 인덱s스에 1 값 대입\n",
      "0 [0, 3, 1, 0]\n",
      "1 [0, 3, 1, 1]\n",
      "2 [0, 3, 1, 2]\n",
      "3 [0, 3, 1, 3]\n",
      "False\n",
      "2 [0, 3, 2, 3]\n",
      "3 [0, 3, 3, 3]\n",
      "False\n",
      "False\n",
      "1 [1, 3, 3, 3]\n",
      "진입: 0번 인덱s스에 1 값 대입\n",
      "0 [1, 0, 3, 3]\n",
      "1 [1, 1, 3, 3]\n",
      "2 [1, 2, 3, 3]\n",
      "3 [1, 3, 3, 3]\n",
      "진입: 1번 인덱s스에 3 값 대입\n",
      "0 [1, 3, 0, 3]\n",
      "진입: 2번 인덱s스에 0 값 대입\n",
      "0 [1, 3, 0, 0]\n",
      "1 [1, 3, 0, 1]\n",
      "2 [1, 3, 0, 2]\n",
      "진입: 3번 인덱s스에 2 값 대입\n",
      "True\n",
      "True\n",
      "True\n",
      "True\n",
      "[1, 3, 0, 2]\n"
     ]
    }
   ],
   "source": [
    "nQueens(4)"
   ]
  },
  {
   "cell_type": "markdown",
   "metadata": {},
   "source": [
    "## (1) 2차원 평면에 나타내기"
   ]
  },
  {
   "cell_type": "code",
   "execution_count": 6,
   "metadata": {},
   "outputs": [],
   "source": [
    "def noConflicts(board, current):\n",
    "    for i in range(current):\n",
    "        if (board[i] == board[current]):\n",
    "            return False\n",
    "        if (current - i == abs(board[current] - board[i])):\n",
    "            return False\n",
    "    return True\n",
    "def rQueens(board, current, size):\n",
    "    if (current == size):\n",
    "        return True\n",
    "    else:\n",
    "        for i in range(size):\n",
    "            board[current] = i\n",
    "            if noConflicts(board, current):\n",
    "                found = rQueens(board, current+1, size)\n",
    "                if found:\n",
    "                    return True\n",
    "        return False\n",
    "def nQueens(N):\n",
    "    board = [-1] * N\n",
    "    rQueens(board, 0, N)\n",
    "    print(board)\n",
    "    for i in range(N):\n",
    "        pr = ['. ']*N\n",
    "        pr[board.index(i)] = 'Q '\n",
    "        print(''.join(pr))"
   ]
  },
  {
   "cell_type": "code",
   "execution_count": 7,
   "metadata": {},
   "outputs": [
    {
     "name": "stdout",
     "output_type": "stream",
     "text": [
      "[1, 3, 0, 2]\n",
      ". . Q . \n",
      "Q . . . \n",
      ". . . Q \n",
      ". Q . . \n"
     ]
    }
   ],
   "source": [
    "nQueens(4)"
   ]
  },
  {
   "cell_type": "markdown",
   "metadata": {},
   "source": [
    "## (2) 정해진 자리의 퀸"
   ]
  },
  {
   "cell_type": "code",
   "execution_count": 8,
   "metadata": {},
   "outputs": [],
   "source": [
    "def noConflicts(board, current):\n",
    "    for i in range(current):\n",
    "        if (board[i] == board[current]):\n",
    "            return False\n",
    "        if (current - i == abs(board[current] - board[i])):\n",
    "            return False\n",
    "    return True\n",
    "def rQueens(location, board, current, size):\n",
    "    if current == size:\n",
    "        return True\n",
    "    else:\n",
    "        for i in range(size):\n",
    "            board[current] = i\n",
    "            if location[current] != -1:\n",
    "                board[current] = location[current]\n",
    "            if noConflicts(board, current):\n",
    "                found = rQueens(location, board, current+1, size)\n",
    "                if found:\n",
    "                    return True\n",
    "        return False\n",
    "def nQueens(location, N):\n",
    "    board = [-1] * N\n",
    "    rQueens(location, board, 0, N)\n",
    "    print('='*10,board,'='*10)\n",
    "    for i in range(N):\n",
    "        pr = ['. ']*N\n",
    "        pr[board.index(i)] = 'Q '\n",
    "        print(''.join(pr))"
   ]
  },
  {
   "cell_type": "code",
   "execution_count": 10,
   "metadata": {},
   "outputs": [
    {
     "name": "stdout",
     "output_type": "stream",
     "text": [
      "========== [1, 3, 0, 2] ==========\n",
      ". . Q . \n",
      "Q . . . \n",
      ". . . Q \n",
      ". Q . . \n"
     ]
    }
   ],
   "source": [
    "location = [1, -1, 0, -1]\n",
    "nQueens(location, 4)"
   ]
  },
  {
   "cell_type": "code",
   "execution_count": 11,
   "metadata": {},
   "outputs": [
    {
     "name": "stdout",
     "output_type": "stream",
     "text": [
      "========== [9, 2, 4, 7, 1, 8, 6, 0, 3, 5] ==========\n",
      ". . . . . . . Q . . \n",
      ". . . . Q . . . . . \n",
      ". Q . . . . . . . . \n",
      ". . . . . . . . Q . \n",
      ". . Q . . . . . . . \n",
      ". . . . . . . . . Q \n",
      ". . . . . . Q . . . \n",
      ". . . Q . . . . . . \n",
      ". . . . . Q . . . . \n",
      "Q . . . . . . . . . \n"
     ]
    }
   ],
   "source": [
    "location = [-1, -1, 4, -1, -1, -1, -1, 0, -1, 5]\n",
    "nQueens(location, 10)"
   ]
  },
  {
   "cell_type": "markdown",
   "metadata": {},
   "source": [
    "## (3) 재귀 사용하여 회문 판별"
   ]
  },
  {
   "cell_type": "code",
   "execution_count": 51,
   "metadata": {},
   "outputs": [],
   "source": [
    "def kayak(txt):\n",
    "    txt = txt.lower()\n",
    "    if len(txt) < 2:\n",
    "        return print('This text is a Palindrome.')\n",
    "    else:\n",
    "        if txt[0] == txt[-1]:\n",
    "            kayak(txt[1:-1])\n",
    "        else:\n",
    "            return print('This text is NOT a Palindrome.')"
   ]
  },
  {
   "cell_type": "code",
   "execution_count": 52,
   "metadata": {},
   "outputs": [
    {
     "name": "stdout",
     "output_type": "stream",
     "text": [
      "This text is NOT a Palindrome.\n"
     ]
    }
   ],
   "source": [
    "kayak('kayakk')"
   ]
  },
  {
   "cell_type": "code",
   "execution_count": 53,
   "metadata": {},
   "outputs": [
    {
     "name": "stdout",
     "output_type": "stream",
     "text": [
      "This text is a Palindrome.\n"
     ]
    }
   ],
   "source": [
    "kayak('kayaK')"
   ]
  },
  {
   "cell_type": "markdown",
   "metadata": {},
   "source": [
    "## (4) 재귀로 퍼즐 9 풀기"
   ]
  }
 ],
 "metadata": {
  "kernelspec": {
   "display_name": "Python 3",
   "language": "python",
   "name": "python3"
  },
  "language_info": {
   "codemirror_mode": {
    "name": "ipython",
    "version": 3
   },
   "file_extension": ".py",
   "mimetype": "text/x-python",
   "name": "python",
   "nbconvert_exporter": "python",
   "pygments_lexer": "ipython3",
   "version": "3.7.4"
  }
 },
 "nbformat": 4,
 "nbformat_minor": 2
}
