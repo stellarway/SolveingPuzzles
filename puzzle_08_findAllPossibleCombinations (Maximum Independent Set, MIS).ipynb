{
 "cells": [
  {
   "cell_type": "markdown",
   "metadata": {},
   "source": [
    "## 0. 책에 나온 코드"
   ]
  },
  {
   "cell_type": "code",
   "execution_count": 36,
   "metadata": {},
   "outputs": [],
   "source": [
    "guestList = ['a', 'b', 'c', 'd', 'e']\n",
    "dislikePairs = [['a', 'b'], ['b', 'e']]"
   ]
  },
  {
   "cell_type": "code",
   "execution_count": 45,
   "metadata": {},
   "outputs": [],
   "source": [
    "def allCombinations(guestList):\n",
    "    allCombs = []\n",
    "    n = len(guestList)\n",
    "    for i in range(2**n):\n",
    "        num = i\n",
    "        cList = []\n",
    "        for j in range(n):\n",
    "            if num % 2:\n",
    "                cList = [guestList[n-1-j]] + cList\n",
    "            num = num//2\n",
    "        allCombs.append(cList)\n",
    "    return allCombs            \n",
    "\n",
    "def removeBad(allCombs, dislikePairs):\n",
    "    allGoods = []\n",
    "    for i in allCombs:\n",
    "        good = True\n",
    "        for j in dislikePairs:\n",
    "            if j[0] in i and j[1] in i:\n",
    "                good = False\n",
    "        if good:\n",
    "            allGoods.append(i)\n",
    "    return allGoods\n",
    "\n",
    "def InviteDinner(guestList, dislikePairs):\n",
    "    allCombs = allCombinations(guestList)\n",
    "    allGoods = removeBad(allCombs, dislikePairs)\n",
    "    invite = []\n",
    "    for i in allGoods:\n",
    "        if len(i) > len(invite):\n",
    "            invite = i\n",
    "    print('Optimum Solution:', invite)\n",
    "    "
   ]
  },
  {
   "cell_type": "code",
   "execution_count": 46,
   "metadata": {},
   "outputs": [
    {
     "name": "stdout",
     "output_type": "stream",
     "text": [
      "Optimum Solution: ['a', 'c', 'd', 'e']\n"
     ]
    }
   ],
   "source": [
    "InviteDinner(guestList, dislikePairs)"
   ]
  },
  {
   "cell_type": "code",
   "execution_count": 49,
   "metadata": {},
   "outputs": [],
   "source": [
    "def optimized(guestList, dislikePairs):\n",
    "    n, invite = len(guestList), []\n",
    "    for i in range(2**n):\n",
    "        comb = []\n",
    "        num = i\n",
    "        for j in range(n):\n",
    "            if num % 2:\n",
    "                comb = [ guestList[n-1-j] ] + comb\n",
    "            num = num//2\n",
    "        good = True\n",
    "        for j in dislikePairs:\n",
    "            if j[0] in comb and j[1] in comb:\n",
    "                good = False\n",
    "        if good:\n",
    "            if len(comb) > len(invite):\n",
    "                invite = comb\n",
    "    print('Optimum Solution:', invite)"
   ]
  },
  {
   "cell_type": "code",
   "execution_count": 50,
   "metadata": {},
   "outputs": [
    {
     "name": "stdout",
     "output_type": "stream",
     "text": [
      "Optimum Solution: ['a', 'c', 'd', 'e']\n"
     ]
    }
   ],
   "source": [
    "optimized(guestList, dislikePairs)"
   ]
  },
  {
   "cell_type": "markdown",
   "metadata": {},
   "source": [
    "## (1) score에 따른 조합 선택"
   ]
  },
  {
   "cell_type": "code",
   "execution_count": 57,
   "metadata": {},
   "outputs": [],
   "source": [
    "dislikePairs = [['A', 'B'], ['B', 'E']]\n",
    "guestList = [('A', 2), ('B', 6), ('C', 3), ('D', 10), ('E', 3)]"
   ]
  },
  {
   "cell_type": "code",
   "execution_count": 139,
   "metadata": {},
   "outputs": [],
   "source": [
    "def optimized(guestList, dislikePairs):\n",
    "    n, invite = len(guestList), []\n",
    "    for i in range(2**n):\n",
    "        comb = []\n",
    "        comb_temp = []\n",
    "        num = i\n",
    "        for j in range(n):\n",
    "            if num % 2:\n",
    "                comb = [ guestList[n-1-j] ] + comb\n",
    "                comb_temp = [ guestList[n-1-j][0] ] + comb_temp\n",
    "            num = num//2\n",
    "        good = True\n",
    "        for j in dislikePairs:\n",
    "            if j[0] in comb_temp and j[1] in comb_temp:\n",
    "                good = False\n",
    "        if good:\n",
    "            good_score = 0\n",
    "            invite_score = 0\n",
    "            for i in comb:\n",
    "                invite_score += i[1]\n",
    "            if invite_score > good_score:\n",
    "                invite = comb\n",
    "                good_score = invite_score\n",
    "    print('Optimum Solution:', invite)\n",
    "    print('Weight is:', good_score)"
   ]
  },
  {
   "cell_type": "code",
   "execution_count": 140,
   "metadata": {},
   "outputs": [
    {
     "name": "stdout",
     "output_type": "stream",
     "text": [
      "Optimum Solution: [('A', 2), ('C', 3), ('D', 10), ('E', 3)]\n",
      "Weight is: 18\n"
     ]
    }
   ],
   "source": [
    "optimized(guestList, dislikePairs)"
   ]
  },
  {
   "cell_type": "markdown",
   "metadata": {},
   "source": [
    "## (2) 친구 리스트 사이즈 줄여서 최적화"
   ]
  },
  {
   "cell_type": "code",
   "execution_count": 116,
   "metadata": {},
   "outputs": [],
   "source": [
    "dislikePairs = [['A', 'B'], ['B', 'E']]\n",
    "guestList = [('A', 2), ('B', 6), ('C', 3), ('D', 10), ('E', 3)]"
   ]
  },
  {
   "cell_type": "code",
   "execution_count": 137,
   "metadata": {},
   "outputs": [],
   "source": [
    "def optimized(guestList, dislikePairs):\n",
    "    n, invite = len(guestList), []\n",
    "    for i in range(2**n):\n",
    "        comb = []\n",
    "        comb_temp = []\n",
    "        num = i\n",
    "        for j in range(n):\n",
    "            if num % 2:\n",
    "                comb = [ guestList[n-1-j] ] + comb\n",
    "                comb_temp = [ guestList[n-1-j][0] ] + comb_temp\n",
    "            num = num//2\n",
    "        good = True\n",
    "        for j in dislikePairs:\n",
    "            if j[0] in comb_temp and j[1] in comb_temp:\n",
    "                good = False\n",
    "        if good:\n",
    "            good_score = 0\n",
    "            invite_score = 0\n",
    "            for i in comb:\n",
    "                invite_score += i[1]\n",
    "            if invite_score > good_score:\n",
    "                invite = comb\n",
    "                good_score = invite_score\n",
    "    return invite, good_score\n",
    "\n",
    "def sol(guestList, dislikePairs):\n",
    "    dislikeList = list(set(sum(dislikePairs, [])))\n",
    "    new_guestList = []\n",
    "    likeList = []\n",
    "\n",
    "    for i in guestList:\n",
    "        if i[0] in dislikeList:\n",
    "            new_guestList.append(i)\n",
    "        else:\n",
    "            likeList.append(i)\n",
    "    like_score = 0\n",
    "    for i in likeList:\n",
    "        like_score += i[1]\n",
    "        \n",
    "    invite, score = optimized(new_guestList, dislikePairs)\n",
    "    print('Optimum Solution:', invite+likeList)\n",
    "    print('Weight is: ', score+like_score)"
   ]
  },
  {
   "cell_type": "code",
   "execution_count": 138,
   "metadata": {},
   "outputs": [
    {
     "name": "stdout",
     "output_type": "stream",
     "text": [
      "Optimum Solution: [('A', 2), ('E', 3), ('C', 3), ('D', 10)]\n",
      "Weight is:  18\n"
     ]
    }
   ],
   "source": [
    "sol(guestList, dislikePairs)"
   ]
  },
  {
   "cell_type": "markdown",
   "metadata": {},
   "source": [
    "## (3) 한 쌍까지는 괜춘"
   ]
  },
  {
   "cell_type": "code",
   "execution_count": 3,
   "metadata": {},
   "outputs": [],
   "source": [
    "L_dislikes = [['B', 'C'],['C', 'D'], ['D', 'E'], ['F', 'G'], ['F', 'H'], ['F', 'I'], ['G', 'H']]\n",
    "L_guestList = [('A', 2), ('B', 1), ('C', 3), ('D',2), ('E', 1), ('F', 4), ('G', 2), ('H', 1), ('I', 3)]"
   ]
  },
  {
   "cell_type": "code",
   "execution_count": 25,
   "metadata": {},
   "outputs": [],
   "source": [
    "def optimized(guestList, dislikePairs):\n",
    "    n, invite = len(guestList), []\n",
    "    \n",
    "    # 최종적으로 가장 좋은 score를 가진 값을 추출하기 위한 변수 설정\n",
    "    best_score = 0\n",
    "    \n",
    "    # 가능한 모든 조합을 숫자로 나타내기\n",
    "    for i in range(2**n):\n",
    "        comb = []\n",
    "        comb_temp = []\n",
    "        num = i\n",
    "        \n",
    "        # 2진법을 사용하여 특정인의 참석과 불참석 나타내기\n",
    "        for j in range(n):\n",
    "            if num % 2:\n",
    "                comb = [ guestList[n-1-j] ] + comb\n",
    "                comb_temp = [ guestList[n-1-j][0] ] + comb_temp\n",
    "            num = num//2\n",
    "        \n",
    "        # bad가 두번 이상이면 즉시 for 루프를 깨고 나오며 good을 False로 만들어준다.\n",
    "        good = True\n",
    "        bad = 0\n",
    "        for j in dislikePairs:\n",
    "            if j[0] in comb_temp and j[1] in comb_temp:\n",
    "                bad += 1\n",
    "                if bad > 1:\n",
    "                    good = False\n",
    "                    break\n",
    "        \n",
    "        # good이 True일 때, 즉 bad가 1번 이하일 때 아래 코드 진행\n",
    "        if good:\n",
    "            invite_score = 0\n",
    "            \n",
    "            # 만든 조합의 score 계산\n",
    "            for i in comb:\n",
    "                invite_score += i[1]\n",
    "                \n",
    "            # 최상의 score와 비교하여 최상의 score 업데이트\n",
    "            if invite_score > best_score:\n",
    "                invite = comb\n",
    "                best_score = invite_score\n",
    "    return invite, best_score\n",
    "\n",
    "def solution(guestList, dislikePairs):\n",
    "    dislikeList = list(set(sum(dislikePairs, [])))\n",
    "    new_guestList = []\n",
    "    likeList = []\n",
    "\n",
    "    for i in guestList:\n",
    "        if i[0] in dislikeList:\n",
    "            new_guestList.append(i)\n",
    "        else:\n",
    "            likeList.append(i)\n",
    "    like_score = 0\n",
    "    for i in likeList:\n",
    "        like_score += i[1]\n",
    "\n",
    "    invite, score = optimized(new_guestList, dislikePairs)\n",
    "    print('Optimum Solution:', invite+likeList)\n",
    "    print('Weight is: ', score+like_score)"
   ]
  },
  {
   "cell_type": "code",
   "execution_count": 26,
   "metadata": {},
   "outputs": [
    {
     "name": "stdout",
     "output_type": "stream",
     "text": [
      "Optimum Solution: [('C', 3), ('E', 1), ('F', 4), ('I', 3), ('A', 2)]\n",
      "Weight is:  13\n"
     ]
    }
   ],
   "source": [
    "solution(L_guestList, L_dislikes)"
   ]
  }
 ],
 "metadata": {
  "kernelspec": {
   "display_name": "Python 3",
   "language": "python",
   "name": "python3"
  },
  "language_info": {
   "codemirror_mode": {
    "name": "ipython",
    "version": 3
   },
   "file_extension": ".py",
   "mimetype": "text/x-python",
   "name": "python",
   "nbconvert_exporter": "python",
   "pygments_lexer": "ipython3",
   "version": "3.7.4"
  }
 },
 "nbformat": 4,
 "nbformat_minor": 2
}
