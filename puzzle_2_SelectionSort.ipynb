{
 "cells": [
  {
   "cell_type": "code",
   "execution_count": 2,
   "metadata": {},
   "outputs": [],
   "source": [
    "sched = [(6,8), (6,12), (6,7), (7,8), \n",
    "         (7,10), (8,9), (8,10), (9,12), \n",
    "         (9,10), (10,11), (10,12), (11,12)]"
   ]
  },
  {
   "cell_type": "markdown",
   "metadata": {},
   "source": [
    "## (1)  내가 갈 수 있는 시간 내에서"
   ]
  },
  {
   "cell_type": "markdown",
   "metadata": {},
   "source": [
    "내가 파티에 참석할 수 있는 시간인 ystart와 yend가 제시된다면, 그 구간 안에 들어오는 시간표만 체크하면 된다.  \n",
    "하지만 구간 안에 '들어오는' 시간표보다 '들어오지 않는' 경우를 체크하는 게 훨씬 경우의 수가 복잡하지 않다.  \n",
    "무슨 말이냐면, 구간 안에 시간표가 '들어오기' 위해서 ystart와 yend를 복합적으로 구성해야 하는데,  \n",
    "'들어오지 않기' 위해서는 ystart가 유명인의 끝시간과 같거나 크고 yend가 유명인의 시작 시간과 같거나 작으면 된다.  \n",
    "'들어오지 않는' 케이스를 부정하면 '들어오는' 케이스가 된다."
   ]
  },
  {
   "cell_type": "code",
   "execution_count": 63,
   "metadata": {},
   "outputs": [
    {
     "name": "stdout",
     "output_type": "stream",
     "text": [
      "Best time to attend the party is at 10 o'clolck : 4 celebrities will be attending\n"
     ]
    }
   ],
   "source": [
    "ystart, yend = 10, 12\n",
    "\n",
    "def bestTimeToPartySmart(ystart, yend, schedule):\n",
    "    times = []\n",
    "    for c in schedule:\n",
    "        if not(c[0]>= yend or c[1] <=ystart):\n",
    "            times.append((c[0], 'start'))\n",
    "            times.append((c[1], 'end'))\n",
    "    sortList(times)\n",
    "    maxcount, time = chooseTime(times)\n",
    "    print('Best time to attend the party is at {} o\\'clolck : {} celebrities will be attending'.format(time, maxcount))\n",
    "def sortList(tlist):\n",
    "    for ind in range(len(tlist)-1):\n",
    "        iSm = ind\n",
    "        for i in range(ind, len(tlist)):\n",
    "            if tlist[iSm][0] > tlist[i][0]:\n",
    "                iSm = i\n",
    "        tlist[ind], tlist[iSm] = tlist[iSm], tlist[ind]\n",
    "def chooseTime(times):\n",
    "    rcount = 0\n",
    "    maxcount = time = 0\n",
    "    for t in times:\n",
    "        if t[1] == 'start':\n",
    "            rcount = rcount + 1\n",
    "        elif t[1] == 'end':\n",
    "            rcount = rcount - 1\n",
    "        if rcount > maxcount:\n",
    "            maxcount = rcount\n",
    "            time = t[0]\n",
    "    return maxcount, time\n",
    "\n",
    "bestTimeToPartySmart(ystart, yend, sched)"
   ]
  },
  {
   "cell_type": "markdown",
   "metadata": {},
   "source": [
    "## (2) 연예인을 한 사람 선택하여 살펴보기"
   ]
  },
  {
   "cell_type": "code",
   "execution_count": 80,
   "metadata": {},
   "outputs": [
    {
     "name": "stdout",
     "output_type": "stream",
     "text": [
      "Best time to attend the party is at 9 o'clolck : 5 celebrities will be attending\n"
     ]
    }
   ],
   "source": [
    "def select_someone(sche):\n",
    "    cnt_l = []\n",
    "    for c in sched:\n",
    "        cnt = 0\n",
    "        for other in sched:\n",
    "            if c[0] >= other[0] and c[0] < other[1]:\n",
    "                cnt += 1\n",
    "        cnt_l.append(cnt)\n",
    "    maxcnt = max(cnt_l)\n",
    "    maxtime = sched[cnt_l.index(maxcnt)][0]\n",
    "    print('Best time to attend the party is at {} o\\'clolck : {} celebrities will be attending'.format(maxtime, maxcnt))\n",
    "\n",
    "select_someone(sched)"
   ]
  },
  {
   "cell_type": "markdown",
   "metadata": {},
   "source": [
    "## (3) 선호도 높은 사람 선택"
   ]
  },
  {
   "cell_type": "code",
   "execution_count": 126,
   "metadata": {},
   "outputs": [],
   "source": [
    "sched3 = [(6.0, 8.0, 2), (6.5, 12.0, 1), (6.5, 7.0, 2),\n",
    "          (7.0, 8.0, 2), (7.5, 10.0, 3), (8.0, 9.0, 2),\n",
    "          (8.0, 10.0, 1), (9.0, 12.0, 2),\n",
    "          (9.5, 10.0, 4), (10.0, 11.0, 2),\n",
    "          (10.0, 12.0, 3), (11.0, 12.0, 7)]"
   ]
  },
  {
   "cell_type": "code",
   "execution_count": 147,
   "metadata": {},
   "outputs": [
    {
     "name": "stdout",
     "output_type": "stream",
     "text": [
      "Best time to attend the party is at 11.0 o'clolck : you will get 13 scores.\n"
     ]
    }
   ],
   "source": [
    "def prefer(schedule):\n",
    "    times = []\n",
    "    for c in schedule:\n",
    "        times.append((c[0], 'start', c[2]))\n",
    "        times.append((c[1], 'end', c[2]))\n",
    "    \n",
    "    # selection sort\n",
    "    for i in range(len(times)-1):\n",
    "        least = i\n",
    "        for j in range(i, len(times)):\n",
    "            if times[least][0] > times[j][0]:\n",
    "                least = j\n",
    "        times[i], times[least] = times[least], times[i]\n",
    "        \n",
    "    score = maxscore = time = 0\n",
    "    for t in times:\n",
    "        if t[1] == 'start':\n",
    "            score += t[2]\n",
    "        else:\n",
    "            score -= t[2]\n",
    "        if score > maxscore:\n",
    "            maxscore = score\n",
    "            time = t[0]\n",
    "    print('Best time to attend the party is at {} o\\'clolck : you will get {} scores.'.format(time, maxscore))\n",
    "\n",
    "prefer(sched3)"
   ]
  }
 ],
 "metadata": {
  "kernelspec": {
   "display_name": "Python 3",
   "language": "python",
   "name": "python3"
  },
  "language_info": {
   "codemirror_mode": {
    "name": "ipython",
    "version": 3
   },
   "file_extension": ".py",
   "mimetype": "text/x-python",
   "name": "python",
   "nbconvert_exporter": "python",
   "pygments_lexer": "ipython3",
   "version": "3.7.4"
  }
 },
 "nbformat": 4,
 "nbformat_minor": 2
}
